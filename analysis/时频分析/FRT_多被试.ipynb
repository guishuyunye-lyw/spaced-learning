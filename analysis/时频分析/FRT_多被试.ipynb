{
 "cells": [
  {
   "cell_type": "code",
   "execution_count": null,
   "outputs": [],
   "source": [
    "'''\n",
    "多被试的情况下该怎么做呢？\n",
    "psds\n",
    "\n",
    "snrs\n",
    "\n",
    "power\n",
    "\n",
    "itc\n",
    "\n",
    "这几个变量都是可以叠加的吧，如果是做被试间，那么所有的数据都应该某人被试内平均过了，不应该有channel信息。\n",
    "\n",
    "每个被试的这四个值分别存入不同的list当中，再来做统计 和 平均。\n",
    "'''\n"
   ],
   "metadata": {
    "collapsed": false
   }
  },
  {
   "cell_type": "code",
   "execution_count": 2,
   "outputs": [],
   "source": [
    "import  mne\n",
    "import matplotlib.pyplot as plt\n",
    "from mne.time_frequency import tfr_morlet, psd_multitaper, psd_welch\n",
    "import numpy as np"
   ],
   "metadata": {
    "collapsed": false
   }
  },
  {
   "cell_type": "code",
   "execution_count": 6,
   "outputs": [],
   "source": [
    "data_path = 'E:\\Python LYW\\RSA\\spaced_learning\\pre10\\\\analysis\\data\\\\6epoch_clean_equal\\\\'\n",
    "\n",
    "#被试2的数据不完整\n",
    "sub_ids = [\n",
    "            'pre1001','pre1003','pre1004','pre1005','pre1006'\n",
    "          ]\n",
    "\n",
    "\n",
    "list_O_ids = [\n",
    "    'prex006','prex009','prex010','prex011','prex012',\n",
    "    'prex015','prex016','prex017','prex018','prex019','prex022','prex023',\n",
    "    'prex027','prex028',\n",
    "    'prex033','prex037','prex038','prex040',\n",
    "    'prex041','prex042','prex044','prex045',\n",
    "    'prex046','prex047','prex049','prex050','prex052','prex051'\n",
    "]\n",
    "#去掉了 5和9被\n",
    "list_M_ids = [\n",
    "    'prex006M','prex009M','prex010M','prex011M','prex012M',\n",
    "    'prex015M','prex016M','prex017M','prex018M','prex019M','prex022M','prex023M',\n",
    "    'prex027M','prex028M',\n",
    "    'prex033M','prex037M','prex038M','prex040S',\n",
    "    'prex041M','prex042M','prex044M','prex045M'\n",
    "    ,'prex046M','prex047M','prex049S','prex050M','prex052M','prex051M'\n",
    "\n",
    "]\n",
    "\n",
    "list_S_ids = [\n",
    "    'prex006S','prex009S','prex010S','prex011S','prex012S',\n",
    "    'prex015S','prex016S','prex017S','prex018S','prex019S','prex022S','prex023S',\n",
    "    'prex027S','prex028S'\n",
    "    ,'prex033S','prex037S','prex038S','prex040M'\n",
    "    ,'prex041S','prex042S','prex044S','prex045S'\n",
    "    ,'prex046S','prex047S','prex049M','prex050S','prex052S','prex051S'\n",
    "]\n",
    "\n",
    "def snr_spectrum(psd, noise_n_neighbor_freqs=1, noise_skip_neighbor_freqs=1):\n",
    "    \"\"\"Compute SNR spectrum from PSD spectrum using convolution.\n",
    "\n",
    "    Parameters\n",
    "    ----------\n",
    "    psd : ndarray, shape ([n_trials, n_channels,] n_frequency_bins)\n",
    "        Data object containing PSD values. Works with arrays as produced by\n",
    "        MNE's PSD functions or channel/trial subsets.\n",
    "    noise_n_neighbor_freqs : int\n",
    "        Number of neighboring frequencies used to compute noise level.\n",
    "        increment by one to add one frequency bin ON BOTH SIDES\n",
    "    noise_skip_neighbor_freqs : int\n",
    "        set this >=1 if you want to exclude the immediately neighboring\n",
    "        frequency bins in noise level calculation\n",
    "\n",
    "    Returns\n",
    "    -------\n",
    "    snr : ndarray, shape ([n_trials, n_channels,] n_frequency_bins)\n",
    "        Array containing SNR for all epochs, channels, frequency bins.\n",
    "        NaN for frequencies on the edges, that do not have enough neighbors on\n",
    "        one side to calculate SNR.\n",
    "    \"\"\"\n",
    "    # Construct a kernel that calculates the mean of the neighboring\n",
    "    # frequencies\n",
    "    averaging_kernel = np.concatenate((\n",
    "        np.ones(noise_n_neighbor_freqs),\n",
    "        np.zeros(2 * noise_skip_neighbor_freqs + 1),\n",
    "        np.ones(noise_n_neighbor_freqs)))\n",
    "    averaging_kernel /= averaging_kernel.sum()\n",
    "\n",
    "    # Calculate the mean of the neighboring frequencies by convolving with the\n",
    "    # averaging kernel.\n",
    "    mean_noise = np.apply_along_axis(\n",
    "        lambda psd_: np.convolve(psd_, averaging_kernel, mode='valid'),\n",
    "        axis=-1, arr=psd\n",
    "    )\n",
    "\n",
    "    # The mean is not defined on the edges so we will pad it with nas. The\n",
    "    # padding needs to be done for the last dimension only so we set it to\n",
    "    # (0, 0) for the other ones.\n",
    "    edge_width = noise_n_neighbor_freqs + noise_skip_neighbor_freqs\n",
    "    pad_width = [(0, 0)] * (mean_noise.ndim - 1) + [(edge_width, edge_width)]\n",
    "    mean_noise = np.pad(\n",
    "        mean_noise, pad_width=pad_width, constant_values=np.nan\n",
    "    )\n",
    "\n",
    "    return psd / mean_noise\n",
    "\n"
   ],
   "metadata": {
    "collapsed": false
   }
  },
  {
   "cell_type": "code",
   "execution_count": 7,
   "outputs": [
    {
     "name": "stdout",
     "output_type": "stream",
     "text": [
      "Reading E:\\Python LYW\\RSA\\spaced_learning\\pre10\\analysis\\data\\6epoch_clean_equal\\prex006S-epo.fif ...\n",
      "    Found the data of interest:\n",
      "        t =    -200.00 ...     800.00 ms\n",
      "        0 CTF compensation matrices available\n",
      "Not setting metadata\n",
      "46 matching events found\n",
      "No baseline correction applied\n",
      "0 projection items activated\n",
      "Reading E:\\Python LYW\\RSA\\spaced_learning\\pre10\\analysis\\data\\6epoch_clean_equal\\prex006M-epo.fif ...\n",
      "    Found the data of interest:\n",
      "        t =    -200.00 ...     800.00 ms\n",
      "        0 CTF compensation matrices available\n",
      "Not setting metadata\n",
      "46 matching events found\n",
      "No baseline correction applied\n",
      "0 projection items activated\n",
      "Reading E:\\Python LYW\\RSA\\spaced_learning\\pre10\\analysis\\data\\6epoch_clean_equal\\prex006-epo.fif ...\n",
      "    Found the data of interest:\n",
      "        t =    -200.00 ...     800.00 ms\n",
      "        0 CTF compensation matrices available\n",
      "Not setting metadata\n",
      "46 matching events found\n",
      "No baseline correction applied\n",
      "0 projection items activated\n"
     ]
    },
    {
     "name": "stderr",
     "output_type": "stream",
     "text": [
      "<decorator-gen-201>:4: FutureWarning: NOTE: psd_welch() is a deprecated function. Function psd_welch() is deprecated; for Raw/Epochs/Evoked instances use spectrum = instance.compute_psd(method=\"welch\") instead, followed by spectrum.get_data(return_freqs=True)..\n"
     ]
    },
    {
     "name": "stdout",
     "output_type": "stream",
     "text": [
      "Reading E:\\Python LYW\\RSA\\spaced_learning\\pre10\\analysis\\data\\6epoch_clean_equal\\prex009S-epo.fif ...\n",
      "    Found the data of interest:\n",
      "        t =    -200.00 ...     800.00 ms\n",
      "        0 CTF compensation matrices available\n",
      "Not setting metadata\n",
      "39 matching events found\n",
      "No baseline correction applied\n",
      "0 projection items activated\n",
      "Reading E:\\Python LYW\\RSA\\spaced_learning\\pre10\\analysis\\data\\6epoch_clean_equal\\prex009M-epo.fif ...\n",
      "    Found the data of interest:\n",
      "        t =    -200.00 ...     800.00 ms\n",
      "        0 CTF compensation matrices available\n",
      "Not setting metadata\n",
      "39 matching events found\n",
      "No baseline correction applied\n",
      "0 projection items activated\n",
      "Reading E:\\Python LYW\\RSA\\spaced_learning\\pre10\\analysis\\data\\6epoch_clean_equal\\prex009-epo.fif ...\n",
      "    Found the data of interest:\n",
      "        t =    -200.00 ...     800.00 ms\n",
      "        0 CTF compensation matrices available\n",
      "Not setting metadata\n",
      "39 matching events found\n",
      "No baseline correction applied\n",
      "0 projection items activated\n"
     ]
    },
    {
     "name": "stderr",
     "output_type": "stream",
     "text": [
      "<decorator-gen-201>:4: FutureWarning: NOTE: psd_welch() is a deprecated function. Function psd_welch() is deprecated; for Raw/Epochs/Evoked instances use spectrum = instance.compute_psd(method=\"welch\") instead, followed by spectrum.get_data(return_freqs=True)..\n"
     ]
    },
    {
     "name": "stdout",
     "output_type": "stream",
     "text": [
      "Reading E:\\Python LYW\\RSA\\spaced_learning\\pre10\\analysis\\data\\6epoch_clean_equal\\prex010S-epo.fif ...\n",
      "    Found the data of interest:\n",
      "        t =    -200.00 ...     800.00 ms\n",
      "        0 CTF compensation matrices available\n",
      "Not setting metadata\n",
      "35 matching events found\n",
      "No baseline correction applied\n",
      "0 projection items activated\n",
      "Reading E:\\Python LYW\\RSA\\spaced_learning\\pre10\\analysis\\data\\6epoch_clean_equal\\prex010M-epo.fif ...\n",
      "    Found the data of interest:\n",
      "        t =    -200.00 ...     800.00 ms\n",
      "        0 CTF compensation matrices available\n",
      "Not setting metadata\n",
      "35 matching events found\n",
      "No baseline correction applied\n",
      "0 projection items activated\n",
      "Reading E:\\Python LYW\\RSA\\spaced_learning\\pre10\\analysis\\data\\6epoch_clean_equal\\prex010-epo.fif ...\n",
      "    Found the data of interest:\n",
      "        t =    -200.00 ...     800.00 ms\n",
      "        0 CTF compensation matrices available\n",
      "Not setting metadata\n",
      "35 matching events found\n",
      "No baseline correction applied\n",
      "0 projection items activated\n"
     ]
    },
    {
     "name": "stderr",
     "output_type": "stream",
     "text": [
      "<decorator-gen-201>:4: FutureWarning: NOTE: psd_welch() is a deprecated function. Function psd_welch() is deprecated; for Raw/Epochs/Evoked instances use spectrum = instance.compute_psd(method=\"welch\") instead, followed by spectrum.get_data(return_freqs=True)..\n"
     ]
    },
    {
     "name": "stdout",
     "output_type": "stream",
     "text": [
      "Reading E:\\Python LYW\\RSA\\spaced_learning\\pre10\\analysis\\data\\6epoch_clean_equal\\prex011S-epo.fif ...\n",
      "    Found the data of interest:\n",
      "        t =    -200.00 ...     800.00 ms\n",
      "        0 CTF compensation matrices available\n",
      "Not setting metadata\n",
      "33 matching events found\n",
      "No baseline correction applied\n",
      "0 projection items activated\n",
      "Reading E:\\Python LYW\\RSA\\spaced_learning\\pre10\\analysis\\data\\6epoch_clean_equal\\prex011M-epo.fif ...\n",
      "    Found the data of interest:\n",
      "        t =    -200.00 ...     800.00 ms\n",
      "        0 CTF compensation matrices available\n",
      "Not setting metadata\n",
      "33 matching events found\n",
      "No baseline correction applied\n",
      "0 projection items activated\n",
      "Reading E:\\Python LYW\\RSA\\spaced_learning\\pre10\\analysis\\data\\6epoch_clean_equal\\prex011-epo.fif ...\n",
      "    Found the data of interest:\n",
      "        t =    -200.00 ...     800.00 ms\n",
      "        0 CTF compensation matrices available\n",
      "Not setting metadata\n",
      "33 matching events found\n",
      "No baseline correction applied\n",
      "0 projection items activated\n"
     ]
    },
    {
     "name": "stderr",
     "output_type": "stream",
     "text": [
      "<decorator-gen-201>:4: FutureWarning: NOTE: psd_welch() is a deprecated function. Function psd_welch() is deprecated; for Raw/Epochs/Evoked instances use spectrum = instance.compute_psd(method=\"welch\") instead, followed by spectrum.get_data(return_freqs=True)..\n"
     ]
    },
    {
     "name": "stdout",
     "output_type": "stream",
     "text": [
      "Reading E:\\Python LYW\\RSA\\spaced_learning\\pre10\\analysis\\data\\6epoch_clean_equal\\prex012S-epo.fif ...\n",
      "    Found the data of interest:\n",
      "        t =    -200.00 ...     800.00 ms\n",
      "        0 CTF compensation matrices available\n",
      "Not setting metadata\n",
      "32 matching events found\n",
      "No baseline correction applied\n",
      "0 projection items activated\n",
      "Reading E:\\Python LYW\\RSA\\spaced_learning\\pre10\\analysis\\data\\6epoch_clean_equal\\prex012M-epo.fif ...\n",
      "    Found the data of interest:\n",
      "        t =    -200.00 ...     800.00 ms\n",
      "        0 CTF compensation matrices available\n",
      "Not setting metadata\n",
      "32 matching events found\n",
      "No baseline correction applied\n",
      "0 projection items activated\n",
      "Reading E:\\Python LYW\\RSA\\spaced_learning\\pre10\\analysis\\data\\6epoch_clean_equal\\prex012-epo.fif ...\n",
      "    Found the data of interest:\n",
      "        t =    -200.00 ...     800.00 ms\n",
      "        0 CTF compensation matrices available\n",
      "Not setting metadata\n",
      "32 matching events found\n",
      "No baseline correction applied\n",
      "0 projection items activated\n"
     ]
    },
    {
     "name": "stderr",
     "output_type": "stream",
     "text": [
      "<decorator-gen-201>:4: FutureWarning: NOTE: psd_welch() is a deprecated function. Function psd_welch() is deprecated; for Raw/Epochs/Evoked instances use spectrum = instance.compute_psd(method=\"welch\") instead, followed by spectrum.get_data(return_freqs=True)..\n"
     ]
    },
    {
     "name": "stdout",
     "output_type": "stream",
     "text": [
      "Reading E:\\Python LYW\\RSA\\spaced_learning\\pre10\\analysis\\data\\6epoch_clean_equal\\prex015S-epo.fif ...\n",
      "    Found the data of interest:\n",
      "        t =    -200.00 ...     800.00 ms\n",
      "        0 CTF compensation matrices available\n",
      "Not setting metadata\n",
      "43 matching events found\n",
      "No baseline correction applied\n",
      "0 projection items activated\n",
      "Reading E:\\Python LYW\\RSA\\spaced_learning\\pre10\\analysis\\data\\6epoch_clean_equal\\prex015M-epo.fif ...\n",
      "    Found the data of interest:\n",
      "        t =    -200.00 ...     800.00 ms\n",
      "        0 CTF compensation matrices available\n",
      "Not setting metadata\n",
      "43 matching events found\n",
      "No baseline correction applied\n",
      "0 projection items activated\n",
      "Reading E:\\Python LYW\\RSA\\spaced_learning\\pre10\\analysis\\data\\6epoch_clean_equal\\prex015-epo.fif ...\n",
      "    Found the data of interest:\n",
      "        t =    -200.00 ...     800.00 ms\n",
      "        0 CTF compensation matrices available\n",
      "Not setting metadata\n",
      "43 matching events found\n",
      "No baseline correction applied\n",
      "0 projection items activated\n"
     ]
    },
    {
     "name": "stderr",
     "output_type": "stream",
     "text": [
      "<decorator-gen-201>:4: FutureWarning: NOTE: psd_welch() is a deprecated function. Function psd_welch() is deprecated; for Raw/Epochs/Evoked instances use spectrum = instance.compute_psd(method=\"welch\") instead, followed by spectrum.get_data(return_freqs=True)..\n"
     ]
    },
    {
     "name": "stdout",
     "output_type": "stream",
     "text": [
      "Reading E:\\Python LYW\\RSA\\spaced_learning\\pre10\\analysis\\data\\6epoch_clean_equal\\prex016S-epo.fif ...\n",
      "    Found the data of interest:\n",
      "        t =    -200.00 ...     800.00 ms\n",
      "        0 CTF compensation matrices available\n",
      "Not setting metadata\n",
      "43 matching events found\n",
      "No baseline correction applied\n",
      "0 projection items activated\n",
      "Reading E:\\Python LYW\\RSA\\spaced_learning\\pre10\\analysis\\data\\6epoch_clean_equal\\prex016M-epo.fif ...\n",
      "    Found the data of interest:\n",
      "        t =    -200.00 ...     800.00 ms\n",
      "        0 CTF compensation matrices available\n",
      "Not setting metadata\n",
      "43 matching events found\n",
      "No baseline correction applied\n",
      "0 projection items activated\n",
      "Reading E:\\Python LYW\\RSA\\spaced_learning\\pre10\\analysis\\data\\6epoch_clean_equal\\prex016-epo.fif ...\n",
      "    Found the data of interest:\n",
      "        t =    -200.00 ...     800.00 ms\n",
      "        0 CTF compensation matrices available\n",
      "Not setting metadata\n",
      "43 matching events found\n",
      "No baseline correction applied\n",
      "0 projection items activated\n"
     ]
    },
    {
     "name": "stderr",
     "output_type": "stream",
     "text": [
      "<decorator-gen-201>:4: FutureWarning: NOTE: psd_welch() is a deprecated function. Function psd_welch() is deprecated; for Raw/Epochs/Evoked instances use spectrum = instance.compute_psd(method=\"welch\") instead, followed by spectrum.get_data(return_freqs=True)..\n"
     ]
    },
    {
     "name": "stdout",
     "output_type": "stream",
     "text": [
      "Reading E:\\Python LYW\\RSA\\spaced_learning\\pre10\\analysis\\data\\6epoch_clean_equal\\prex017S-epo.fif ...\n",
      "    Found the data of interest:\n",
      "        t =    -200.00 ...     800.00 ms\n",
      "        0 CTF compensation matrices available\n",
      "Not setting metadata\n",
      "41 matching events found\n",
      "No baseline correction applied\n",
      "0 projection items activated\n",
      "Reading E:\\Python LYW\\RSA\\spaced_learning\\pre10\\analysis\\data\\6epoch_clean_equal\\prex017M-epo.fif ...\n",
      "    Found the data of interest:\n",
      "        t =    -200.00 ...     800.00 ms\n",
      "        0 CTF compensation matrices available\n",
      "Not setting metadata\n",
      "41 matching events found\n",
      "No baseline correction applied\n",
      "0 projection items activated\n",
      "Reading E:\\Python LYW\\RSA\\spaced_learning\\pre10\\analysis\\data\\6epoch_clean_equal\\prex017-epo.fif ...\n",
      "    Found the data of interest:\n",
      "        t =    -200.00 ...     800.00 ms\n",
      "        0 CTF compensation matrices available\n",
      "Not setting metadata\n",
      "41 matching events found\n",
      "No baseline correction applied\n",
      "0 projection items activated\n"
     ]
    },
    {
     "name": "stderr",
     "output_type": "stream",
     "text": [
      "<decorator-gen-201>:4: FutureWarning: NOTE: psd_welch() is a deprecated function. Function psd_welch() is deprecated; for Raw/Epochs/Evoked instances use spectrum = instance.compute_psd(method=\"welch\") instead, followed by spectrum.get_data(return_freqs=True)..\n"
     ]
    },
    {
     "name": "stdout",
     "output_type": "stream",
     "text": [
      "Reading E:\\Python LYW\\RSA\\spaced_learning\\pre10\\analysis\\data\\6epoch_clean_equal\\prex018S-epo.fif ...\n",
      "    Found the data of interest:\n",
      "        t =    -200.00 ...     800.00 ms\n",
      "        0 CTF compensation matrices available\n",
      "Not setting metadata\n",
      "35 matching events found\n",
      "No baseline correction applied\n",
      "0 projection items activated\n",
      "Reading E:\\Python LYW\\RSA\\spaced_learning\\pre10\\analysis\\data\\6epoch_clean_equal\\prex018M-epo.fif ...\n",
      "    Found the data of interest:\n",
      "        t =    -200.00 ...     800.00 ms\n",
      "        0 CTF compensation matrices available\n",
      "Not setting metadata\n",
      "35 matching events found\n",
      "No baseline correction applied\n",
      "0 projection items activated\n",
      "Reading E:\\Python LYW\\RSA\\spaced_learning\\pre10\\analysis\\data\\6epoch_clean_equal\\prex018-epo.fif ...\n",
      "    Found the data of interest:\n",
      "        t =    -200.00 ...     800.00 ms\n",
      "        0 CTF compensation matrices available\n",
      "Not setting metadata\n",
      "35 matching events found\n",
      "No baseline correction applied\n",
      "0 projection items activated\n"
     ]
    },
    {
     "name": "stderr",
     "output_type": "stream",
     "text": [
      "<decorator-gen-201>:4: FutureWarning: NOTE: psd_welch() is a deprecated function. Function psd_welch() is deprecated; for Raw/Epochs/Evoked instances use spectrum = instance.compute_psd(method=\"welch\") instead, followed by spectrum.get_data(return_freqs=True)..\n"
     ]
    },
    {
     "name": "stdout",
     "output_type": "stream",
     "text": [
      "Reading E:\\Python LYW\\RSA\\spaced_learning\\pre10\\analysis\\data\\6epoch_clean_equal\\prex019S-epo.fif ...\n",
      "    Found the data of interest:\n",
      "        t =    -200.00 ...     800.00 ms\n",
      "        0 CTF compensation matrices available\n",
      "Not setting metadata\n",
      "38 matching events found\n",
      "No baseline correction applied\n",
      "0 projection items activated\n",
      "Reading E:\\Python LYW\\RSA\\spaced_learning\\pre10\\analysis\\data\\6epoch_clean_equal\\prex019M-epo.fif ...\n",
      "    Found the data of interest:\n",
      "        t =    -200.00 ...     800.00 ms\n",
      "        0 CTF compensation matrices available\n",
      "Not setting metadata\n",
      "38 matching events found\n",
      "No baseline correction applied\n",
      "0 projection items activated\n",
      "Reading E:\\Python LYW\\RSA\\spaced_learning\\pre10\\analysis\\data\\6epoch_clean_equal\\prex019-epo.fif ...\n",
      "    Found the data of interest:\n",
      "        t =    -200.00 ...     800.00 ms\n",
      "        0 CTF compensation matrices available\n",
      "Not setting metadata\n",
      "38 matching events found\n",
      "No baseline correction applied\n",
      "0 projection items activated\n"
     ]
    },
    {
     "name": "stderr",
     "output_type": "stream",
     "text": [
      "<decorator-gen-201>:4: FutureWarning: NOTE: psd_welch() is a deprecated function. Function psd_welch() is deprecated; for Raw/Epochs/Evoked instances use spectrum = instance.compute_psd(method=\"welch\") instead, followed by spectrum.get_data(return_freqs=True)..\n"
     ]
    },
    {
     "name": "stdout",
     "output_type": "stream",
     "text": [
      "Reading E:\\Python LYW\\RSA\\spaced_learning\\pre10\\analysis\\data\\6epoch_clean_equal\\prex022S-epo.fif ...\n",
      "    Found the data of interest:\n",
      "        t =    -200.00 ...     800.00 ms\n",
      "        0 CTF compensation matrices available\n",
      "Not setting metadata\n",
      "46 matching events found\n",
      "No baseline correction applied\n",
      "0 projection items activated\n",
      "Reading E:\\Python LYW\\RSA\\spaced_learning\\pre10\\analysis\\data\\6epoch_clean_equal\\prex022M-epo.fif ...\n",
      "    Found the data of interest:\n",
      "        t =    -200.00 ...     800.00 ms\n",
      "        0 CTF compensation matrices available\n",
      "Not setting metadata\n",
      "46 matching events found\n",
      "No baseline correction applied\n",
      "0 projection items activated\n",
      "Reading E:\\Python LYW\\RSA\\spaced_learning\\pre10\\analysis\\data\\6epoch_clean_equal\\prex022-epo.fif ...\n",
      "    Found the data of interest:\n",
      "        t =    -200.00 ...     800.00 ms\n",
      "        0 CTF compensation matrices available\n",
      "Not setting metadata\n",
      "46 matching events found\n",
      "No baseline correction applied\n",
      "0 projection items activated\n"
     ]
    },
    {
     "name": "stderr",
     "output_type": "stream",
     "text": [
      "<decorator-gen-201>:4: FutureWarning: NOTE: psd_welch() is a deprecated function. Function psd_welch() is deprecated; for Raw/Epochs/Evoked instances use spectrum = instance.compute_psd(method=\"welch\") instead, followed by spectrum.get_data(return_freqs=True)..\n"
     ]
    },
    {
     "name": "stdout",
     "output_type": "stream",
     "text": [
      "Reading E:\\Python LYW\\RSA\\spaced_learning\\pre10\\analysis\\data\\6epoch_clean_equal\\prex023S-epo.fif ...\n",
      "    Found the data of interest:\n",
      "        t =    -200.00 ...     800.00 ms\n",
      "        0 CTF compensation matrices available\n",
      "Not setting metadata\n",
      "40 matching events found\n",
      "No baseline correction applied\n",
      "0 projection items activated\n",
      "Reading E:\\Python LYW\\RSA\\spaced_learning\\pre10\\analysis\\data\\6epoch_clean_equal\\prex023M-epo.fif ...\n",
      "    Found the data of interest:\n",
      "        t =    -200.00 ...     800.00 ms\n",
      "        0 CTF compensation matrices available\n",
      "Not setting metadata\n",
      "40 matching events found\n",
      "No baseline correction applied\n",
      "0 projection items activated\n",
      "Reading E:\\Python LYW\\RSA\\spaced_learning\\pre10\\analysis\\data\\6epoch_clean_equal\\prex023-epo.fif ...\n",
      "    Found the data of interest:\n",
      "        t =    -200.00 ...     800.00 ms\n",
      "        0 CTF compensation matrices available\n",
      "Not setting metadata\n",
      "40 matching events found\n",
      "No baseline correction applied\n",
      "0 projection items activated\n"
     ]
    },
    {
     "name": "stderr",
     "output_type": "stream",
     "text": [
      "<decorator-gen-201>:4: FutureWarning: NOTE: psd_welch() is a deprecated function. Function psd_welch() is deprecated; for Raw/Epochs/Evoked instances use spectrum = instance.compute_psd(method=\"welch\") instead, followed by spectrum.get_data(return_freqs=True)..\n"
     ]
    },
    {
     "name": "stdout",
     "output_type": "stream",
     "text": [
      "Reading E:\\Python LYW\\RSA\\spaced_learning\\pre10\\analysis\\data\\6epoch_clean_equal\\prex027S-epo.fif ...\n",
      "    Found the data of interest:\n",
      "        t =    -200.00 ...     800.00 ms\n",
      "        0 CTF compensation matrices available\n",
      "Not setting metadata\n",
      "33 matching events found\n",
      "No baseline correction applied\n",
      "0 projection items activated\n",
      "Reading E:\\Python LYW\\RSA\\spaced_learning\\pre10\\analysis\\data\\6epoch_clean_equal\\prex027M-epo.fif ...\n",
      "    Found the data of interest:\n",
      "        t =    -200.00 ...     800.00 ms\n",
      "        0 CTF compensation matrices available\n",
      "Not setting metadata\n",
      "33 matching events found\n",
      "No baseline correction applied\n",
      "0 projection items activated\n",
      "Reading E:\\Python LYW\\RSA\\spaced_learning\\pre10\\analysis\\data\\6epoch_clean_equal\\prex027-epo.fif ...\n",
      "    Found the data of interest:\n",
      "        t =    -200.00 ...     800.00 ms\n",
      "        0 CTF compensation matrices available\n",
      "Not setting metadata\n",
      "33 matching events found\n",
      "No baseline correction applied\n",
      "0 projection items activated\n"
     ]
    },
    {
     "name": "stderr",
     "output_type": "stream",
     "text": [
      "<decorator-gen-201>:4: FutureWarning: NOTE: psd_welch() is a deprecated function. Function psd_welch() is deprecated; for Raw/Epochs/Evoked instances use spectrum = instance.compute_psd(method=\"welch\") instead, followed by spectrum.get_data(return_freqs=True)..\n"
     ]
    },
    {
     "name": "stdout",
     "output_type": "stream",
     "text": [
      "Reading E:\\Python LYW\\RSA\\spaced_learning\\pre10\\analysis\\data\\6epoch_clean_equal\\prex028S-epo.fif ...\n",
      "    Found the data of interest:\n",
      "        t =    -200.00 ...     800.00 ms\n",
      "        0 CTF compensation matrices available\n",
      "Not setting metadata\n",
      "28 matching events found\n",
      "No baseline correction applied\n",
      "0 projection items activated\n",
      "Reading E:\\Python LYW\\RSA\\spaced_learning\\pre10\\analysis\\data\\6epoch_clean_equal\\prex028M-epo.fif ...\n",
      "    Found the data of interest:\n",
      "        t =    -200.00 ...     800.00 ms\n",
      "        0 CTF compensation matrices available\n",
      "Not setting metadata\n",
      "28 matching events found\n",
      "No baseline correction applied\n",
      "0 projection items activated\n",
      "Reading E:\\Python LYW\\RSA\\spaced_learning\\pre10\\analysis\\data\\6epoch_clean_equal\\prex028-epo.fif ...\n",
      "    Found the data of interest:\n",
      "        t =    -200.00 ...     800.00 ms\n",
      "        0 CTF compensation matrices available\n",
      "Not setting metadata\n",
      "28 matching events found\n",
      "No baseline correction applied\n",
      "0 projection items activated\n"
     ]
    },
    {
     "name": "stderr",
     "output_type": "stream",
     "text": [
      "<decorator-gen-201>:4: FutureWarning: NOTE: psd_welch() is a deprecated function. Function psd_welch() is deprecated; for Raw/Epochs/Evoked instances use spectrum = instance.compute_psd(method=\"welch\") instead, followed by spectrum.get_data(return_freqs=True)..\n"
     ]
    },
    {
     "name": "stdout",
     "output_type": "stream",
     "text": [
      "Reading E:\\Python LYW\\RSA\\spaced_learning\\pre10\\analysis\\data\\6epoch_clean_equal\\prex033S-epo.fif ...\n",
      "    Found the data of interest:\n",
      "        t =    -200.00 ...     800.00 ms\n",
      "        0 CTF compensation matrices available\n",
      "Not setting metadata\n",
      "38 matching events found\n",
      "No baseline correction applied\n",
      "0 projection items activated\n",
      "Reading E:\\Python LYW\\RSA\\spaced_learning\\pre10\\analysis\\data\\6epoch_clean_equal\\prex033M-epo.fif ...\n",
      "    Found the data of interest:\n",
      "        t =    -200.00 ...     800.00 ms\n",
      "        0 CTF compensation matrices available\n",
      "Not setting metadata\n",
      "38 matching events found\n",
      "No baseline correction applied\n",
      "0 projection items activated\n",
      "Reading E:\\Python LYW\\RSA\\spaced_learning\\pre10\\analysis\\data\\6epoch_clean_equal\\prex033-epo.fif ...\n",
      "    Found the data of interest:\n",
      "        t =    -200.00 ...     800.00 ms\n",
      "        0 CTF compensation matrices available\n",
      "Not setting metadata\n",
      "38 matching events found\n",
      "No baseline correction applied\n",
      "0 projection items activated\n"
     ]
    },
    {
     "name": "stderr",
     "output_type": "stream",
     "text": [
      "<decorator-gen-201>:4: FutureWarning: NOTE: psd_welch() is a deprecated function. Function psd_welch() is deprecated; for Raw/Epochs/Evoked instances use spectrum = instance.compute_psd(method=\"welch\") instead, followed by spectrum.get_data(return_freqs=True)..\n"
     ]
    },
    {
     "name": "stdout",
     "output_type": "stream",
     "text": [
      "Reading E:\\Python LYW\\RSA\\spaced_learning\\pre10\\analysis\\data\\6epoch_clean_equal\\prex037S-epo.fif ...\n",
      "    Found the data of interest:\n",
      "        t =    -200.00 ...     800.00 ms\n",
      "        0 CTF compensation matrices available\n",
      "Not setting metadata\n",
      "41 matching events found\n",
      "No baseline correction applied\n",
      "0 projection items activated\n",
      "Reading E:\\Python LYW\\RSA\\spaced_learning\\pre10\\analysis\\data\\6epoch_clean_equal\\prex037M-epo.fif ...\n",
      "    Found the data of interest:\n",
      "        t =    -200.00 ...     800.00 ms\n",
      "        0 CTF compensation matrices available\n",
      "Not setting metadata\n",
      "41 matching events found\n",
      "No baseline correction applied\n",
      "0 projection items activated\n",
      "Reading E:\\Python LYW\\RSA\\spaced_learning\\pre10\\analysis\\data\\6epoch_clean_equal\\prex037-epo.fif ...\n",
      "    Found the data of interest:\n",
      "        t =    -200.00 ...     800.00 ms\n",
      "        0 CTF compensation matrices available\n",
      "Not setting metadata\n",
      "41 matching events found\n",
      "No baseline correction applied\n",
      "0 projection items activated\n"
     ]
    },
    {
     "name": "stderr",
     "output_type": "stream",
     "text": [
      "<decorator-gen-201>:4: FutureWarning: NOTE: psd_welch() is a deprecated function. Function psd_welch() is deprecated; for Raw/Epochs/Evoked instances use spectrum = instance.compute_psd(method=\"welch\") instead, followed by spectrum.get_data(return_freqs=True)..\n"
     ]
    },
    {
     "name": "stdout",
     "output_type": "stream",
     "text": [
      "Reading E:\\Python LYW\\RSA\\spaced_learning\\pre10\\analysis\\data\\6epoch_clean_equal\\prex038S-epo.fif ...\n",
      "    Found the data of interest:\n",
      "        t =    -200.00 ...     800.00 ms\n",
      "        0 CTF compensation matrices available\n",
      "Not setting metadata\n",
      "46 matching events found\n",
      "No baseline correction applied\n",
      "0 projection items activated\n",
      "Reading E:\\Python LYW\\RSA\\spaced_learning\\pre10\\analysis\\data\\6epoch_clean_equal\\prex038M-epo.fif ...\n",
      "    Found the data of interest:\n",
      "        t =    -200.00 ...     800.00 ms\n",
      "        0 CTF compensation matrices available\n",
      "Not setting metadata\n",
      "46 matching events found\n",
      "No baseline correction applied\n",
      "0 projection items activated\n",
      "Reading E:\\Python LYW\\RSA\\spaced_learning\\pre10\\analysis\\data\\6epoch_clean_equal\\prex038-epo.fif ...\n",
      "    Found the data of interest:\n",
      "        t =    -200.00 ...     800.00 ms\n",
      "        0 CTF compensation matrices available\n",
      "Not setting metadata\n",
      "46 matching events found\n",
      "No baseline correction applied\n",
      "0 projection items activated\n"
     ]
    },
    {
     "name": "stderr",
     "output_type": "stream",
     "text": [
      "<decorator-gen-201>:4: FutureWarning: NOTE: psd_welch() is a deprecated function. Function psd_welch() is deprecated; for Raw/Epochs/Evoked instances use spectrum = instance.compute_psd(method=\"welch\") instead, followed by spectrum.get_data(return_freqs=True)..\n"
     ]
    },
    {
     "name": "stdout",
     "output_type": "stream",
     "text": [
      "Reading E:\\Python LYW\\RSA\\spaced_learning\\pre10\\analysis\\data\\6epoch_clean_equal\\prex040S-epo.fif ...\n",
      "    Found the data of interest:\n",
      "        t =    -200.00 ...     800.00 ms\n",
      "        0 CTF compensation matrices available\n",
      "Not setting metadata\n",
      "36 matching events found\n",
      "No baseline correction applied\n",
      "0 projection items activated\n",
      "Reading E:\\Python LYW\\RSA\\spaced_learning\\pre10\\analysis\\data\\6epoch_clean_equal\\prex040M-epo.fif ...\n",
      "    Found the data of interest:\n",
      "        t =    -200.00 ...     800.00 ms\n",
      "        0 CTF compensation matrices available\n",
      "Not setting metadata\n",
      "36 matching events found\n",
      "No baseline correction applied\n",
      "0 projection items activated\n",
      "Reading E:\\Python LYW\\RSA\\spaced_learning\\pre10\\analysis\\data\\6epoch_clean_equal\\prex040-epo.fif ...\n",
      "    Found the data of interest:\n",
      "        t =    -200.00 ...     800.00 ms\n",
      "        0 CTF compensation matrices available\n",
      "Not setting metadata\n",
      "36 matching events found\n",
      "No baseline correction applied\n",
      "0 projection items activated\n"
     ]
    },
    {
     "name": "stderr",
     "output_type": "stream",
     "text": [
      "<decorator-gen-201>:4: FutureWarning: NOTE: psd_welch() is a deprecated function. Function psd_welch() is deprecated; for Raw/Epochs/Evoked instances use spectrum = instance.compute_psd(method=\"welch\") instead, followed by spectrum.get_data(return_freqs=True)..\n"
     ]
    },
    {
     "name": "stdout",
     "output_type": "stream",
     "text": [
      "Reading E:\\Python LYW\\RSA\\spaced_learning\\pre10\\analysis\\data\\6epoch_clean_equal\\prex041S-epo.fif ...\n",
      "    Found the data of interest:\n",
      "        t =    -200.00 ...     800.00 ms\n",
      "        0 CTF compensation matrices available\n",
      "Not setting metadata\n",
      "48 matching events found\n",
      "No baseline correction applied\n",
      "0 projection items activated\n",
      "Reading E:\\Python LYW\\RSA\\spaced_learning\\pre10\\analysis\\data\\6epoch_clean_equal\\prex041M-epo.fif ...\n",
      "    Found the data of interest:\n",
      "        t =    -200.00 ...     800.00 ms\n",
      "        0 CTF compensation matrices available\n",
      "Not setting metadata\n",
      "48 matching events found\n",
      "No baseline correction applied\n",
      "0 projection items activated\n",
      "Reading E:\\Python LYW\\RSA\\spaced_learning\\pre10\\analysis\\data\\6epoch_clean_equal\\prex041-epo.fif ...\n",
      "    Found the data of interest:\n",
      "        t =    -200.00 ...     800.00 ms\n",
      "        0 CTF compensation matrices available\n",
      "Not setting metadata\n",
      "48 matching events found\n",
      "No baseline correction applied\n",
      "0 projection items activated\n"
     ]
    },
    {
     "name": "stderr",
     "output_type": "stream",
     "text": [
      "<decorator-gen-201>:4: FutureWarning: NOTE: psd_welch() is a deprecated function. Function psd_welch() is deprecated; for Raw/Epochs/Evoked instances use spectrum = instance.compute_psd(method=\"welch\") instead, followed by spectrum.get_data(return_freqs=True)..\n"
     ]
    },
    {
     "name": "stdout",
     "output_type": "stream",
     "text": [
      "Reading E:\\Python LYW\\RSA\\spaced_learning\\pre10\\analysis\\data\\6epoch_clean_equal\\prex042S-epo.fif ...\n",
      "    Found the data of interest:\n",
      "        t =    -200.00 ...     800.00 ms\n",
      "        0 CTF compensation matrices available\n",
      "Not setting metadata\n",
      "33 matching events found\n",
      "No baseline correction applied\n",
      "0 projection items activated\n",
      "Reading E:\\Python LYW\\RSA\\spaced_learning\\pre10\\analysis\\data\\6epoch_clean_equal\\prex042M-epo.fif ...\n",
      "    Found the data of interest:\n",
      "        t =    -200.00 ...     800.00 ms\n",
      "        0 CTF compensation matrices available\n",
      "Not setting metadata\n",
      "33 matching events found\n",
      "No baseline correction applied\n",
      "0 projection items activated\n",
      "Reading E:\\Python LYW\\RSA\\spaced_learning\\pre10\\analysis\\data\\6epoch_clean_equal\\prex042-epo.fif ...\n",
      "    Found the data of interest:\n",
      "        t =    -200.00 ...     800.00 ms\n",
      "        0 CTF compensation matrices available\n",
      "Not setting metadata\n",
      "33 matching events found\n",
      "No baseline correction applied\n",
      "0 projection items activated\n"
     ]
    },
    {
     "name": "stderr",
     "output_type": "stream",
     "text": [
      "<decorator-gen-201>:4: FutureWarning: NOTE: psd_welch() is a deprecated function. Function psd_welch() is deprecated; for Raw/Epochs/Evoked instances use spectrum = instance.compute_psd(method=\"welch\") instead, followed by spectrum.get_data(return_freqs=True)..\n"
     ]
    },
    {
     "name": "stdout",
     "output_type": "stream",
     "text": [
      "Reading E:\\Python LYW\\RSA\\spaced_learning\\pre10\\analysis\\data\\6epoch_clean_equal\\prex044S-epo.fif ...\n",
      "    Found the data of interest:\n",
      "        t =    -200.00 ...     800.00 ms\n",
      "        0 CTF compensation matrices available\n",
      "Not setting metadata\n",
      "40 matching events found\n",
      "No baseline correction applied\n",
      "0 projection items activated\n",
      "Reading E:\\Python LYW\\RSA\\spaced_learning\\pre10\\analysis\\data\\6epoch_clean_equal\\prex044M-epo.fif ...\n",
      "    Found the data of interest:\n",
      "        t =    -200.00 ...     800.00 ms\n",
      "        0 CTF compensation matrices available\n",
      "Not setting metadata\n",
      "40 matching events found\n",
      "No baseline correction applied\n",
      "0 projection items activated\n",
      "Reading E:\\Python LYW\\RSA\\spaced_learning\\pre10\\analysis\\data\\6epoch_clean_equal\\prex044-epo.fif ...\n",
      "    Found the data of interest:\n",
      "        t =    -200.00 ...     800.00 ms\n",
      "        0 CTF compensation matrices available\n",
      "Not setting metadata\n",
      "40 matching events found\n",
      "No baseline correction applied\n",
      "0 projection items activated\n"
     ]
    },
    {
     "name": "stderr",
     "output_type": "stream",
     "text": [
      "<decorator-gen-201>:4: FutureWarning: NOTE: psd_welch() is a deprecated function. Function psd_welch() is deprecated; for Raw/Epochs/Evoked instances use spectrum = instance.compute_psd(method=\"welch\") instead, followed by spectrum.get_data(return_freqs=True)..\n"
     ]
    },
    {
     "name": "stdout",
     "output_type": "stream",
     "text": [
      "Reading E:\\Python LYW\\RSA\\spaced_learning\\pre10\\analysis\\data\\6epoch_clean_equal\\prex045S-epo.fif ...\n",
      "    Found the data of interest:\n",
      "        t =    -200.00 ...     800.00 ms\n",
      "        0 CTF compensation matrices available\n",
      "Not setting metadata\n",
      "41 matching events found\n",
      "No baseline correction applied\n",
      "0 projection items activated\n",
      "Reading E:\\Python LYW\\RSA\\spaced_learning\\pre10\\analysis\\data\\6epoch_clean_equal\\prex045M-epo.fif ...\n",
      "    Found the data of interest:\n",
      "        t =    -200.00 ...     800.00 ms\n",
      "        0 CTF compensation matrices available\n",
      "Not setting metadata\n",
      "41 matching events found\n",
      "No baseline correction applied\n",
      "0 projection items activated\n",
      "Reading E:\\Python LYW\\RSA\\spaced_learning\\pre10\\analysis\\data\\6epoch_clean_equal\\prex045-epo.fif ...\n",
      "    Found the data of interest:\n",
      "        t =    -200.00 ...     800.00 ms\n",
      "        0 CTF compensation matrices available\n",
      "Not setting metadata\n",
      "41 matching events found\n",
      "No baseline correction applied\n",
      "0 projection items activated\n"
     ]
    },
    {
     "name": "stderr",
     "output_type": "stream",
     "text": [
      "<decorator-gen-201>:4: FutureWarning: NOTE: psd_welch() is a deprecated function. Function psd_welch() is deprecated; for Raw/Epochs/Evoked instances use spectrum = instance.compute_psd(method=\"welch\") instead, followed by spectrum.get_data(return_freqs=True)..\n"
     ]
    },
    {
     "name": "stdout",
     "output_type": "stream",
     "text": [
      "Reading E:\\Python LYW\\RSA\\spaced_learning\\pre10\\analysis\\data\\6epoch_clean_equal\\prex046S-epo.fif ...\n",
      "    Found the data of interest:\n",
      "        t =    -200.00 ...     800.00 ms\n",
      "        0 CTF compensation matrices available\n",
      "Not setting metadata\n",
      "39 matching events found\n",
      "No baseline correction applied\n",
      "0 projection items activated\n",
      "Reading E:\\Python LYW\\RSA\\spaced_learning\\pre10\\analysis\\data\\6epoch_clean_equal\\prex046M-epo.fif ...\n",
      "    Found the data of interest:\n",
      "        t =    -200.00 ...     800.00 ms\n",
      "        0 CTF compensation matrices available\n",
      "Not setting metadata\n",
      "39 matching events found\n",
      "No baseline correction applied\n",
      "0 projection items activated\n",
      "Reading E:\\Python LYW\\RSA\\spaced_learning\\pre10\\analysis\\data\\6epoch_clean_equal\\prex046-epo.fif ...\n",
      "    Found the data of interest:\n",
      "        t =    -200.00 ...     800.00 ms\n",
      "        0 CTF compensation matrices available\n",
      "Not setting metadata\n",
      "39 matching events found\n",
      "No baseline correction applied\n",
      "0 projection items activated\n"
     ]
    },
    {
     "name": "stderr",
     "output_type": "stream",
     "text": [
      "<decorator-gen-201>:4: FutureWarning: NOTE: psd_welch() is a deprecated function. Function psd_welch() is deprecated; for Raw/Epochs/Evoked instances use spectrum = instance.compute_psd(method=\"welch\") instead, followed by spectrum.get_data(return_freqs=True)..\n"
     ]
    },
    {
     "name": "stdout",
     "output_type": "stream",
     "text": [
      "Reading E:\\Python LYW\\RSA\\spaced_learning\\pre10\\analysis\\data\\6epoch_clean_equal\\prex047S-epo.fif ...\n",
      "    Found the data of interest:\n",
      "        t =    -200.00 ...     800.00 ms\n",
      "        0 CTF compensation matrices available\n",
      "Not setting metadata\n",
      "42 matching events found\n",
      "No baseline correction applied\n",
      "0 projection items activated\n",
      "Reading E:\\Python LYW\\RSA\\spaced_learning\\pre10\\analysis\\data\\6epoch_clean_equal\\prex047M-epo.fif ...\n",
      "    Found the data of interest:\n",
      "        t =    -200.00 ...     800.00 ms\n",
      "        0 CTF compensation matrices available\n",
      "Not setting metadata\n",
      "42 matching events found\n",
      "No baseline correction applied\n",
      "0 projection items activated\n",
      "Reading E:\\Python LYW\\RSA\\spaced_learning\\pre10\\analysis\\data\\6epoch_clean_equal\\prex047-epo.fif ...\n",
      "    Found the data of interest:\n",
      "        t =    -200.00 ...     800.00 ms\n",
      "        0 CTF compensation matrices available\n",
      "Not setting metadata\n",
      "42 matching events found\n",
      "No baseline correction applied\n",
      "0 projection items activated\n"
     ]
    },
    {
     "name": "stderr",
     "output_type": "stream",
     "text": [
      "<decorator-gen-201>:4: FutureWarning: NOTE: psd_welch() is a deprecated function. Function psd_welch() is deprecated; for Raw/Epochs/Evoked instances use spectrum = instance.compute_psd(method=\"welch\") instead, followed by spectrum.get_data(return_freqs=True)..\n"
     ]
    },
    {
     "name": "stdout",
     "output_type": "stream",
     "text": [
      "Reading E:\\Python LYW\\RSA\\spaced_learning\\pre10\\analysis\\data\\6epoch_clean_equal\\prex049S-epo.fif ...\n",
      "    Found the data of interest:\n",
      "        t =    -200.00 ...     800.00 ms\n",
      "        0 CTF compensation matrices available\n",
      "Not setting metadata\n",
      "38 matching events found\n",
      "No baseline correction applied\n",
      "0 projection items activated\n",
      "Reading E:\\Python LYW\\RSA\\spaced_learning\\pre10\\analysis\\data\\6epoch_clean_equal\\prex049M-epo.fif ...\n",
      "    Found the data of interest:\n",
      "        t =    -200.00 ...     800.00 ms\n",
      "        0 CTF compensation matrices available\n",
      "Not setting metadata\n",
      "38 matching events found\n",
      "No baseline correction applied\n",
      "0 projection items activated\n",
      "Reading E:\\Python LYW\\RSA\\spaced_learning\\pre10\\analysis\\data\\6epoch_clean_equal\\prex049-epo.fif ...\n",
      "    Found the data of interest:\n",
      "        t =    -200.00 ...     800.00 ms\n",
      "        0 CTF compensation matrices available\n",
      "Not setting metadata\n",
      "38 matching events found\n",
      "No baseline correction applied\n",
      "0 projection items activated\n"
     ]
    },
    {
     "name": "stderr",
     "output_type": "stream",
     "text": [
      "<decorator-gen-201>:4: FutureWarning: NOTE: psd_welch() is a deprecated function. Function psd_welch() is deprecated; for Raw/Epochs/Evoked instances use spectrum = instance.compute_psd(method=\"welch\") instead, followed by spectrum.get_data(return_freqs=True)..\n"
     ]
    },
    {
     "name": "stdout",
     "output_type": "stream",
     "text": [
      "Reading E:\\Python LYW\\RSA\\spaced_learning\\pre10\\analysis\\data\\6epoch_clean_equal\\prex050S-epo.fif ...\n",
      "    Found the data of interest:\n",
      "        t =    -200.00 ...     800.00 ms\n",
      "        0 CTF compensation matrices available\n",
      "Not setting metadata\n",
      "43 matching events found\n",
      "No baseline correction applied\n",
      "0 projection items activated\n",
      "Reading E:\\Python LYW\\RSA\\spaced_learning\\pre10\\analysis\\data\\6epoch_clean_equal\\prex050M-epo.fif ...\n",
      "    Found the data of interest:\n",
      "        t =    -200.00 ...     800.00 ms\n",
      "        0 CTF compensation matrices available\n",
      "Not setting metadata\n",
      "43 matching events found\n",
      "No baseline correction applied\n",
      "0 projection items activated\n",
      "Reading E:\\Python LYW\\RSA\\spaced_learning\\pre10\\analysis\\data\\6epoch_clean_equal\\prex050-epo.fif ...\n",
      "    Found the data of interest:\n",
      "        t =    -200.00 ...     800.00 ms\n",
      "        0 CTF compensation matrices available\n",
      "Not setting metadata\n",
      "43 matching events found\n",
      "No baseline correction applied\n",
      "0 projection items activated\n"
     ]
    },
    {
     "name": "stderr",
     "output_type": "stream",
     "text": [
      "<decorator-gen-201>:4: FutureWarning: NOTE: psd_welch() is a deprecated function. Function psd_welch() is deprecated; for Raw/Epochs/Evoked instances use spectrum = instance.compute_psd(method=\"welch\") instead, followed by spectrum.get_data(return_freqs=True)..\n"
     ]
    },
    {
     "name": "stdout",
     "output_type": "stream",
     "text": [
      "Reading E:\\Python LYW\\RSA\\spaced_learning\\pre10\\analysis\\data\\6epoch_clean_equal\\prex052S-epo.fif ...\n",
      "    Found the data of interest:\n",
      "        t =    -200.00 ...     800.00 ms\n",
      "        0 CTF compensation matrices available\n",
      "Not setting metadata\n",
      "46 matching events found\n",
      "No baseline correction applied\n",
      "0 projection items activated\n",
      "Reading E:\\Python LYW\\RSA\\spaced_learning\\pre10\\analysis\\data\\6epoch_clean_equal\\prex052M-epo.fif ...\n",
      "    Found the data of interest:\n",
      "        t =    -200.00 ...     800.00 ms\n",
      "        0 CTF compensation matrices available\n",
      "Not setting metadata\n",
      "46 matching events found\n",
      "No baseline correction applied\n",
      "0 projection items activated\n",
      "Reading E:\\Python LYW\\RSA\\spaced_learning\\pre10\\analysis\\data\\6epoch_clean_equal\\prex052-epo.fif ...\n",
      "    Found the data of interest:\n",
      "        t =    -200.00 ...     800.00 ms\n",
      "        0 CTF compensation matrices available\n",
      "Not setting metadata\n",
      "46 matching events found\n",
      "No baseline correction applied\n",
      "0 projection items activated\n"
     ]
    },
    {
     "name": "stderr",
     "output_type": "stream",
     "text": [
      "<decorator-gen-201>:4: FutureWarning: NOTE: psd_welch() is a deprecated function. Function psd_welch() is deprecated; for Raw/Epochs/Evoked instances use spectrum = instance.compute_psd(method=\"welch\") instead, followed by spectrum.get_data(return_freqs=True)..\n"
     ]
    },
    {
     "name": "stdout",
     "output_type": "stream",
     "text": [
      "Reading E:\\Python LYW\\RSA\\spaced_learning\\pre10\\analysis\\data\\6epoch_clean_equal\\prex051S-epo.fif ...\n",
      "    Found the data of interest:\n",
      "        t =    -200.00 ...     800.00 ms\n",
      "        0 CTF compensation matrices available\n",
      "Not setting metadata\n",
      "32 matching events found\n",
      "No baseline correction applied\n",
      "0 projection items activated\n",
      "Reading E:\\Python LYW\\RSA\\spaced_learning\\pre10\\analysis\\data\\6epoch_clean_equal\\prex051M-epo.fif ...\n",
      "    Found the data of interest:\n",
      "        t =    -200.00 ...     800.00 ms\n",
      "        0 CTF compensation matrices available\n",
      "Not setting metadata\n",
      "32 matching events found\n",
      "No baseline correction applied\n",
      "0 projection items activated\n",
      "Reading E:\\Python LYW\\RSA\\spaced_learning\\pre10\\analysis\\data\\6epoch_clean_equal\\prex051-epo.fif ...\n",
      "    Found the data of interest:\n",
      "        t =    -200.00 ...     800.00 ms\n",
      "        0 CTF compensation matrices available\n",
      "Not setting metadata\n",
      "32 matching events found\n",
      "No baseline correction applied\n",
      "0 projection items activated\n"
     ]
    },
    {
     "name": "stderr",
     "output_type": "stream",
     "text": [
      "<decorator-gen-201>:4: FutureWarning: NOTE: psd_welch() is a deprecated function. Function psd_welch() is deprecated; for Raw/Epochs/Evoked instances use spectrum = instance.compute_psd(method=\"welch\") instead, followed by spectrum.get_data(return_freqs=True)..\n"
     ]
    }
   ],
   "source": [
    "list_psds_odd_std = list()\n",
    "\n",
    "list_snrs_odd_std_mean = list()\n",
    "\n",
    "list_power_odd_std = list()\n",
    "\n",
    "list_itc_odd_std = list()\n",
    "\n",
    "\n",
    "for sub_id in list_O_ids:\n",
    "\n",
    "    #就是单个被试的数据啊。。\n",
    "    epochs_S = mne.read_epochs(data_path+sub_id+'S-epo.fif')\n",
    "    epochs_M = mne.read_epochs(data_path+sub_id+'M-epo.fif')\n",
    "    epochs_O = mne.read_epochs(data_path+sub_id+'-epo.fif')\n",
    "\n",
    "###################################################################################\n",
    "\n",
    "    tmin = 0.\n",
    "    tmax = 0.8\n",
    "    # 研究的频域不会超过40Hz\n",
    "    # https://zhuanlan.zhihu.com/p/401681076 参考这里的图\n",
    "    fmin = 1.\n",
    "    fmax = 40.\n",
    "    #这个是采样率，1000Hz\n",
    "    sfreq = epochs_O.info['sfreq']\n",
    "\n",
    "    #PSD shape (n_epochs, n_channels, n_freqs).  (116, 62, 40)\n",
    "    '''\n",
    "    问题：为什么只有32个频率？这个是由什么决定的呢？\n",
    "    肯定是某个参数没有搞明白，FFT的理论问题\n",
    "    '''\n",
    "    '''\n",
    "    这里的PSDS放的是扰动能量值。\n",
    "    那么我应该理解为是1 2 3 这些整数的位置？\n",
    "\n",
    "    为什么freqs一定是8个呢？？\n",
    "    这个和psd应该不一样吧。 psd中的是40个啊\n",
    "    '''\n",
    "    psds, freqs_std = mne.time_frequency.psd_welch(\n",
    "        epochs_O,\n",
    "        #时间戳的个数？\n",
    "        #这里相当于是用了全部作为窗口？那就只有一次了。。应该配合汉明窗，缩减单个窗口的长度\n",
    "        n_fft=int(sfreq * (tmax - tmin)),\n",
    "        #被试间分析，被试内trial需要先平均了。\n",
    "        average='mean',\n",
    "        n_overlap=0, n_per_seg=None,\n",
    "        tmin=tmin, tmax=tmax,\n",
    "        fmin=fmin, fmax=fmax,\n",
    "        # 这里不是 hamming窗\n",
    "        window='boxcar',\n",
    "        verbose=False)\n",
    "    psds_odd,freqs_odd = mne.time_frequency.psd_welch(\n",
    "        epochs_S,\n",
    "        n_fft=int(sfreq * (tmax - tmin)),\n",
    "        average='mean',\n",
    "\n",
    "        tmin=tmin, tmax=tmax,\n",
    "        fmin=fmin, fmax=fmax,\n",
    "        window='boxcar',\n",
    "        verbose=False)\n",
    "    # psds是平均过的，这里应该也是\n",
    "    freq_range = range(np.where(np.floor(freqs_std) == 1.)[0][0],\n",
    "                   np.where(np.ceil(freqs_std) == fmax - 1)[0][0])\n",
    "\n",
    "    snrs = snr_spectrum(psds, noise_n_neighbor_freqs=3,\n",
    "                        noise_skip_neighbor_freqs=0)\n",
    "    snrs_odd = snr_spectrum(psds_odd, noise_n_neighbor_freqs=3,\n",
    "                        noise_skip_neighbor_freqs=0)\n",
    "    # 在试次 和 channel维度上都进行了平均处理，而且通过【】取出来感兴趣的部分。range(0, 38)\n",
    "    snr_mean = snrs_odd.mean(axis=(0, 1))[freq_range] - snrs.mean(axis=(0, 1))[freq_range]\n",
    "    snr_std = snrs_odd.std(axis=(0, 1))[freq_range] - snrs.std(axis=(0, 1))[freq_range]\n",
    "    list_snrs_odd_std_mean.append(snr_mean)\n",
    "\n",
    "    # 你想让他们进行相减 但是这里的power已经被平均过了\n",
    "    # 如果是每个被试的epochs单独拿出来算power，然后呢？\n",
    "    # 还是平均power的好，不然就是以试次为单位了，所以才会没有ITC。\n",
    "    # 应该是先计算出两个条件的平均power，然后再来相减。最后才是组间统计。\n",
    "    '''\n",
    "    作图需要改一下，聚焦感兴趣的区间。\n",
    "    '''\n",
    "    freqs = np.logspace(*np.log10([1, 50]), num=8)\n",
    "    freqs = np.linspace(1,40)\n",
    "    n_cycles = freqs / 2.\n",
    "    power,itc = tfr_morlet(epochs_O, freqs=freqs, n_cycles=n_cycles, use_fft=True,\n",
    "                            return_itc=True, decim=3, n_jobs=1, average=True)\n",
    "    power_odd, itc_odd = tfr_morlet(epochs_S, freqs=freqs, n_cycles=n_cycles, use_fft=True,\n",
    "                            return_itc=True, decim=3, n_jobs=1, average=True)\n",
    "    nd_power = power.data\n",
    "    nd_power_odd = power_odd.data\n",
    "# 直接相减有问题的。\n",
    "# 如果不相减，那就是做统计T了，感觉应该也行。\n",
    "    nd_power_m = nd_power_odd - nd_power\n",
    "    list_power_odd_std.append(nd_power_m)\n",
    "\n",
    "\n",
    "    nd_itc = itc.data\n",
    "    nd_itc_odd = itc_odd.data\n",
    "\n",
    "# 直接相减有问题的。 m代表 minus\n",
    "    nd_itc_m = nd_itc_odd - nd_itc\n",
    "    list_itc_odd_std.append(nd_itc_m)\n"
   ],
   "metadata": {
    "collapsed": false
   }
  },
  {
   "cell_type": "code",
   "execution_count": 6,
   "outputs": [
    {
     "name": "stdout",
     "output_type": "stream",
     "text": [
      "[ 1.  2.  3.  4.  5.  6.  7.  8.  9. 10. 11. 12. 13. 14. 15. 16. 17. 18.\n",
      " 19. 20. 21. 22. 23. 24. 25. 26. 27. 28. 29. 30. 31. 32. 33. 34. 35. 36.\n",
      " 37. 38. 39. 40.]\n",
      "[ 1.          1.79591837  2.59183673  3.3877551   4.18367347  4.97959184\n",
      "  5.7755102   6.57142857  7.36734694  8.16326531  8.95918367  9.75510204\n",
      " 10.55102041 11.34693878 12.14285714 12.93877551 13.73469388 14.53061224\n",
      " 15.32653061 16.12244898 16.91836735 17.71428571 18.51020408 19.30612245\n",
      " 20.10204082 20.89795918 21.69387755 22.48979592 23.28571429 24.08163265\n",
      " 24.87755102 25.67346939 26.46938776 27.26530612 28.06122449 28.85714286\n",
      " 29.65306122 30.44897959 31.24489796 32.04081633 32.83673469 33.63265306\n",
      " 34.42857143 35.2244898  36.02040816 36.81632653 37.6122449  38.40816327\n",
      " 39.20408163 40.        ]\n"
     ]
    }
   ],
   "source": [
    "print(freqs_std)\n",
    "print(freqs)"
   ],
   "metadata": {
    "collapsed": false
   }
  },
  {
   "cell_type": "code",
   "execution_count": 8,
   "outputs": [
    {
     "data": {
      "text/plain": "[<matplotlib.lines.Line2D at 0x1b4fb320e50>]"
     },
     "execution_count": 8,
     "metadata": {},
     "output_type": "execute_result"
    },
    {
     "data": {
      "text/plain": "<Figure size 640x480 with 1 Axes>",
      "image/png": "[encoded data removed]"
     },
     "metadata": {},
     "output_type": "display_data"
    }
   ],
   "source": [
    "'''\n",
    "进行组平均\n",
    "这里肯定是不能直接作图的啊\n",
    "\n",
    "snrs的\n",
    "'''\n",
    "import statistics\n",
    "snr_mean_group = sum(list_snrs_odd_std_mean)/len(list_snrs_odd_std_mean)\n",
    "plt.plot(snr_mean_group)"
   ],
   "metadata": {
    "collapsed": false
   }
  },
  {
   "cell_type": "code",
   "execution_count": 9,
   "outputs": [],
   "source": [
    "%matplotlib qt\n",
    "for i in range(5):\n",
    "    plt.plot(list_snrs_odd_std_mean[i])"
   ],
   "metadata": {
    "collapsed": false
   }
  },
  {
   "cell_type": "code",
   "execution_count": 10,
   "outputs": [
    {
     "name": "stdout",
     "output_type": "stream",
     "text": [
      "Applying baseline correction (mode: mean)\n"
     ]
    },
    {
     "data": {
      "text/plain": "<Figure size 640x480 with 2 Axes>",
      "image/png": "[encoded data removed]"
     },
     "execution_count": 10,
     "metadata": {},
     "output_type": "execute_result"
    }
   ],
   "source": [
    "%matplotlib qt\n",
    "power_mean_group = sum(list_power_odd_std)/len(list_power_odd_std)\n",
    "power_mean = power.copy()\n",
    "power_mean.data = power_mean_group\n",
    "power_mean.plot_topo(baseline=(-0.2, 0), mode='mean', title='Average power')"
   ],
   "metadata": {
    "collapsed": false
   }
  },
  {
   "cell_type": "code",
   "execution_count": 26,
   "outputs": [
    {
     "name": "stdout",
     "output_type": "stream",
     "text": [
      "Applying baseline correction (mode: mean)\n"
     ]
    },
    {
     "data": {
      "text/plain": "<Figure size 640x480 with 2 Axes>",
      "image/png": "[encoded data removed]"
     },
     "execution_count": 26,
     "metadata": {},
     "output_type": "execute_result"
    }
   ],
   "source": [
    "itc_mean_group = sum(list_power_odd_std)/len(list_power_odd_std)\n",
    "itc.data = power_mean_group\n",
    "itc.plot_topo(baseline=(-0.2, 0), mode='mean', title='ITC')"
   ],
   "metadata": {
    "collapsed": false
   }
  },
  {
   "cell_type": "code",
   "execution_count": null,
   "outputs": [],
   "source": [],
   "metadata": {
    "collapsed": false
   }
  }
 ],
 "metadata": {
  "kernelspec": {
   "name": "mne",
   "language": "python",
   "display_name": "mne"
  },
  "language_info": {
   "codemirror_mode": {
    "name": "ipython",
    "version": 2
   },
   "file_extension": ".py",
   "mimetype": "text/x-python",
   "name": "python",
   "nbconvert_exporter": "python",
   "pygments_lexer": "ipython2",
   "version": "2.7.6"
  }
 },
 "nbformat": 4,
 "nbformat_minor": 0
}
