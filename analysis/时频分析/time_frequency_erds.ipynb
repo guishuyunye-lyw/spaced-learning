{
 "cells": [
  {
   "cell_type": "code",
   "execution_count": 1,
   "metadata": {
    "collapsed": false
   },
   "outputs": [],
   "source": [
    "%matplotlib inline"
   ]
  },
  {
   "cell_type": "markdown",
   "metadata": {},
   "source": [
    "# Compute and visualize ERDS maps\n",
    "\n",
    "This example calculates and displays ERDS maps of event-related EEG data. ERDS\n",
    "(sometimes also written as ERD/ERS) is short for event-related\n",
    "desynchronization (ERD) and event-related synchronization (ERS)\n",
    ":footcite:`PfurtschellerLopesdaSilva1999`. Conceptually, ERD corresponds to a\n",
    "decrease in power in a specific frequency band relative to a baseline.\n",
    "Similarly, ERS corresponds to an increase in power. An ERDS map is a\n",
    "time/frequency representation of ERD/ERS over a range of frequencies\n",
    ":footcite:`GraimannEtAl2002`. ERDS maps are also known as ERSP (event-related\n",
    "spectral perturbation) :footcite:`Makeig1993`.\n",
    "\n",
    "In this example, we use an EEG BCI data set containing two different motor\n",
    "imagery tasks (imagined hand and feet movement). Our goal is to generate ERDS\n",
    "maps for each of the two tasks.\n",
    "\n",
    "First, we load the data and create epochs of 5s length. The data set contains\n",
    "multiple channels, but we will only consider C3, Cz, and C4. We compute maps\n",
    "containing frequencies ranging from 2 to 35Hz. We map ERD to red color and ERS\n",
    "to blue color, which is customary in many ERDS publications. Finally, we\n",
    "perform cluster-based permutation tests to estimate significant ERDS values\n",
    "(corrected for multiple comparisons within channels).\n"
   ]
  },
  {
   "cell_type": "code",
   "execution_count": 2,
   "metadata": {
    "collapsed": false
   },
   "outputs": [],
   "source": [
    "# Authors: Clemens Brunner <clemens.brunner@gmail.com>\n",
    "#          Felix Klotzsche <klotzsche@cbs.mpg.de>\n",
    "#\n",
    "# License: BSD-3-Clause"
   ]
  },
  {
   "cell_type": "markdown",
   "metadata": {},
   "source": [
    "As usual, we import everything we need.\n",
    "\n"
   ]
  },
  {
   "cell_type": "code",
   "execution_count": 3,
   "metadata": {
    "collapsed": false
   },
   "outputs": [],
   "source": [
    "import numpy as np\n",
    "import matplotlib.pyplot as plt\n",
    "from matplotlib.colors import TwoSlopeNorm\n",
    "import pandas as pd\n",
    "import seaborn as sns\n",
    "import mne\n",
    "from mne.datasets import eegbci\n",
    "from mne.io import concatenate_raws, read_raw_edf\n",
    "from mne.time_frequency import tfr_multitaper\n",
    "from mne.stats import permutation_cluster_1samp_test as pcluster_test"
   ]
  },
  {
   "cell_type": "markdown",
   "metadata": {},
   "source": [
    "First, we load and preprocess the data. We use runs 6, 10, and 14 from\n",
    "subject 1 (these runs contains hand and feet motor imagery).\n",
    "\n"
   ]
  },
  {
   "cell_type": "code",
   "execution_count": 5,
   "metadata": {
    "collapsed": false
   },
   "outputs": [
    {
     "name": "stdout",
     "output_type": "stream",
     "text": [
      "Extracting EDF parameters from C:\\Users\\SilverBullet\\mne_data\\MNE-eegbci-data\\files\\eegmmidb\\1.0.0\\S001\\S001R06.edf...\n",
      "EDF file detected\n",
      "Setting channel info structure...\n",
      "Creating raw.info structure...\n",
      "Reading 0 ... 19999  =      0.000 ...   124.994 secs...\n",
      "Extracting EDF parameters from C:\\Users\\SilverBullet\\mne_data\\MNE-eegbci-data\\files\\eegmmidb\\1.0.0\\S001\\S001R10.edf...\n",
      "EDF file detected\n",
      "Setting channel info structure...\n",
      "Creating raw.info structure...\n",
      "Reading 0 ... 19999  =      0.000 ...   124.994 secs...\n",
      "Extracting EDF parameters from C:\\Users\\SilverBullet\\mne_data\\MNE-eegbci-data\\files\\eegmmidb\\1.0.0\\S001\\S001R14.edf...\n",
      "EDF file detected\n",
      "Setting channel info structure...\n",
      "Creating raw.info structure...\n",
      "Reading 0 ... 19999  =      0.000 ...   124.994 secs...\n",
      "Used Annotations descriptions: ['T1', 'T2']\n"
     ]
    }
   ],
   "source": [
    "fnames = eegbci.load_data(subject=1, runs=(6, 10, 14))\n",
    "raw = concatenate_raws([read_raw_edf(f, preload=True) for f in fnames])\n",
    "\n",
    "raw.rename_channels(lambda x: x.strip('.'))  # remove dots from channel names\n",
    "\n",
    "events, _ = mne.events_from_annotations(raw, event_id=dict(T1=2, T2=3))"
   ]
  },
  {
   "cell_type": "markdown",
   "metadata": {},
   "source": [
    "Now we can create 5s epochs around events of interest.\n",
    "\n"
   ]
  },
  {
   "cell_type": "code",
   "execution_count": 6,
   "metadata": {
    "collapsed": false
   },
   "outputs": [
    {
     "name": "stdout",
     "output_type": "stream",
     "text": [
      "Not setting metadata\n",
      "Not setting metadata\n",
      "45 matching events found\n",
      "No baseline correction applied\n",
      "0 projection items activated\n",
      "Loading data for 45 events and 961 original time points ...\n",
      "0 bad epochs dropped\n"
     ]
    }
   ],
   "source": [
    "tmin, tmax = -1, 4\n",
    "event_ids = dict(hands=2, feet=3)  # map event IDs to tasks\n",
    "\n",
    "epochs = mne.Epochs(raw, events, event_ids, tmin - 0.5, tmax + 0.5,\n",
    "                    picks=('C3', 'Cz', 'C4'), baseline=None, preload=True)"
   ]
  },
  {
   "cell_type": "markdown",
   "metadata": {},
   "source": [
    "Here we set suitable values for computing ERDS maps.\n",
    "\n"
   ]
  },
  {
   "cell_type": "code",
   "execution_count": 7,
   "metadata": {
    "collapsed": false
   },
   "outputs": [],
   "source": [
    "freqs = np.arange(2, 36)  # frequencies from 2-35Hz\n",
    "vmin, vmax = -1, 1.5  # set min and max ERDS values in plot\n",
    "baseline = [-1, 0]  # baseline interval (in s)\n",
    "cnorm = TwoSlopeNorm(vmin=vmin, vcenter=0, vmax=vmax)  # min, center & max ERDS\n",
    "\n",
    "kwargs = dict(n_permutations=100, step_down_p=0.05, seed=1,\n",
    "              buffer_size=None, out_type='mask')  # for cluster test"
   ]
  },
  {
   "cell_type": "markdown",
   "metadata": {},
   "source": [
    "Finally, we perform time/frequency decomposition over all epochs.\n",
    "\n"
   ]
  },
  {
   "cell_type": "code",
   "execution_count": 9,
   "metadata": {
    "collapsed": false
   },
   "outputs": [
    {
     "name": "stdout",
     "output_type": "stream",
     "text": [
      "Not setting metadata\n",
      "Applying baseline correction (mode: percent)\n",
      "Using a threshold of 1.724718\n",
      "stat_fun(H1): min=-8.523637 max=3.197747\n",
      "Running initial clustering\n",
      "Found 78 clusters\n",
      "Permuting 99 times...\n"
     ]
    },
    {
     "data": {
      "text/plain": "  0%|          |  : 0/99 [00:00<?,       ?it/s]",
      "application/vnd.jupyter.widget-view+json": {
       "version_major": 2,
       "version_minor": 0,
       "model_id": "073b35dc07d046ef82129b50dfd5d655"
      }
     },
     "metadata": {},
     "output_type": "display_data"
    },
    {
     "name": "stdout",
     "output_type": "stream",
     "text": [
      "Computing cluster p-values\n",
      "Step-down-in-jumps iteration #1 found 0 clusters to exclude from subsequent iterations\n",
      "Done.\n",
      "Using a threshold of -1.724718\n",
      "stat_fun(H1): min=-8.523637 max=3.197747\n",
      "Running initial clustering\n",
      "Found 65 clusters\n",
      "Permuting 99 times...\n"
     ]
    },
    {
     "data": {
      "text/plain": "  0%|          |  : 0/99 [00:00<?,       ?it/s]",
      "application/vnd.jupyter.widget-view+json": {
       "version_major": 2,
       "version_minor": 0,
       "model_id": "9f25fde23f7142e08d174f55b9c4751c"
      }
     },
     "metadata": {},
     "output_type": "display_data"
    },
    {
     "name": "stdout",
     "output_type": "stream",
     "text": [
      "Computing cluster p-values\n",
      "Step-down-in-jumps iteration #1 found 1 cluster to exclude from subsequent iterations\n",
      "Permuting 99 times...\n"
     ]
    },
    {
     "data": {
      "text/plain": "  0%|          |  : 0/99 [00:00<?,       ?it/s]",
      "application/vnd.jupyter.widget-view+json": {
       "version_major": 2,
       "version_minor": 0,
       "model_id": "6bfbcbebe8ea4c14b9108deb7b2d818d"
      }
     },
     "metadata": {},
     "output_type": "display_data"
    },
    {
     "name": "stdout",
     "output_type": "stream",
     "text": [
      "Computing cluster p-values\n",
      "Step-down-in-jumps iteration #2 found 0 additional clusters to exclude from subsequent iterations\n",
      "Done.\n",
      "No baseline correction applied\n",
      "Using a threshold of 1.724718\n",
      "stat_fun(H1): min=-4.573067 max=3.687727\n",
      "Running initial clustering\n",
      "Found 85 clusters\n",
      "Permuting 99 times...\n"
     ]
    },
    {
     "data": {
      "text/plain": "  0%|          |  : 0/99 [00:00<?,       ?it/s]",
      "application/vnd.jupyter.widget-view+json": {
       "version_major": 2,
       "version_minor": 0,
       "model_id": "035107305f0a41a2a05b97ae1483dc22"
      }
     },
     "metadata": {},
     "output_type": "display_data"
    },
    {
     "name": "stdout",
     "output_type": "stream",
     "text": [
      "Computing cluster p-values\n",
      "Step-down-in-jumps iteration #1 found 1 cluster to exclude from subsequent iterations\n",
      "Permuting 99 times...\n"
     ]
    },
    {
     "data": {
      "text/plain": "  0%|          |  : 0/99 [00:00<?,       ?it/s]",
      "application/vnd.jupyter.widget-view+json": {
       "version_major": 2,
       "version_minor": 0,
       "model_id": "33e22535da074f89a11129c9dcd38dee"
      }
     },
     "metadata": {},
     "output_type": "display_data"
    },
    {
     "name": "stdout",
     "output_type": "stream",
     "text": [
      "Computing cluster p-values\n",
      "Step-down-in-jumps iteration #2 found 0 additional clusters to exclude from subsequent iterations\n",
      "Done.\n",
      "Using a threshold of -1.724718\n",
      "stat_fun(H1): min=-4.573067 max=3.687727\n",
      "Running initial clustering\n",
      "Found 57 clusters\n",
      "Permuting 99 times...\n"
     ]
    },
    {
     "data": {
      "text/plain": "  0%|          |  : 0/99 [00:00<?,       ?it/s]",
      "application/vnd.jupyter.widget-view+json": {
       "version_major": 2,
       "version_minor": 0,
       "model_id": "181411ac62ac42db8763df5ca8632bdb"
      }
     },
     "metadata": {},
     "output_type": "display_data"
    },
    {
     "name": "stdout",
     "output_type": "stream",
     "text": [
      "Computing cluster p-values\n",
      "Step-down-in-jumps iteration #1 found 0 clusters to exclude from subsequent iterations\n",
      "Done.\n",
      "No baseline correction applied\n",
      "Using a threshold of 1.724718\n",
      "stat_fun(H1): min=-6.599131 max=3.329547\n",
      "Running initial clustering\n",
      "Found 64 clusters\n",
      "Permuting 99 times...\n"
     ]
    },
    {
     "data": {
      "text/plain": "  0%|          |  : 0/99 [00:00<?,       ?it/s]",
      "application/vnd.jupyter.widget-view+json": {
       "version_major": 2,
       "version_minor": 0,
       "model_id": "3dc5d9fb2e134475b0a9c26be7e9c159"
      }
     },
     "metadata": {},
     "output_type": "display_data"
    },
    {
     "name": "stdout",
     "output_type": "stream",
     "text": [
      "Computing cluster p-values\n",
      "Step-down-in-jumps iteration #1 found 0 clusters to exclude from subsequent iterations\n",
      "Done.\n",
      "Using a threshold of -1.724718\n",
      "stat_fun(H1): min=-6.599131 max=3.329547\n",
      "Running initial clustering\n",
      "Found 64 clusters\n",
      "Permuting 99 times...\n"
     ]
    },
    {
     "data": {
      "text/plain": "  0%|          |  : 0/99 [00:00<?,       ?it/s]",
      "application/vnd.jupyter.widget-view+json": {
       "version_major": 2,
       "version_minor": 0,
       "model_id": "18e6871989954bf0b72f28316d0704c9"
      }
     },
     "metadata": {},
     "output_type": "display_data"
    },
    {
     "name": "stdout",
     "output_type": "stream",
     "text": [
      "Computing cluster p-values\n",
      "Step-down-in-jumps iteration #1 found 0 clusters to exclude from subsequent iterations\n",
      "Done.\n",
      "No baseline correction applied\n"
     ]
    },
    {
     "data": {
      "text/plain": "<Figure size 864x288 with 4 Axes>",
      "image/png": "[encoded data removed]"
     },
     "metadata": {
      "needs_background": "light"
     },
     "output_type": "display_data"
    },
    {
     "name": "stdout",
     "output_type": "stream",
     "text": [
      "Using a threshold of 1.713872\n",
      "stat_fun(H1): min=-3.687815 max=3.369164\n",
      "Running initial clustering\n",
      "Found 66 clusters\n",
      "Permuting 99 times...\n"
     ]
    },
    {
     "data": {
      "text/plain": "  0%|          |  : 0/99 [00:00<?,       ?it/s]",
      "application/vnd.jupyter.widget-view+json": {
       "version_major": 2,
       "version_minor": 0,
       "model_id": "ebdde726d82b49c6ab72689e9fb0af94"
      }
     },
     "metadata": {},
     "output_type": "display_data"
    },
    {
     "name": "stdout",
     "output_type": "stream",
     "text": [
      "Computing cluster p-values\n",
      "Step-down-in-jumps iteration #1 found 0 clusters to exclude from subsequent iterations\n",
      "Done.\n",
      "Using a threshold of -1.713872\n",
      "stat_fun(H1): min=-3.687815 max=3.369164\n",
      "Running initial clustering\n",
      "Found 75 clusters\n",
      "Permuting 99 times...\n"
     ]
    },
    {
     "data": {
      "text/plain": "  0%|          |  : 0/99 [00:00<?,       ?it/s]",
      "application/vnd.jupyter.widget-view+json": {
       "version_major": 2,
       "version_minor": 0,
       "model_id": "c50ed11e5ae54aedbbbb798ae6e66e8e"
      }
     },
     "metadata": {},
     "output_type": "display_data"
    },
    {
     "name": "stdout",
     "output_type": "stream",
     "text": [
      "Computing cluster p-values\n",
      "Step-down-in-jumps iteration #1 found 0 clusters to exclude from subsequent iterations\n",
      "Done.\n",
      "No baseline correction applied\n",
      "Using a threshold of 1.713872\n",
      "stat_fun(H1): min=-5.046259 max=5.406477\n",
      "Running initial clustering\n",
      "Found 98 clusters\n",
      "Permuting 99 times...\n"
     ]
    },
    {
     "data": {
      "text/plain": "  0%|          |  : 0/99 [00:00<?,       ?it/s]",
      "application/vnd.jupyter.widget-view+json": {
       "version_major": 2,
       "version_minor": 0,
       "model_id": "3d96fddd5e624f1ba3315663b0b4850e"
      }
     },
     "metadata": {},
     "output_type": "display_data"
    },
    {
     "name": "stdout",
     "output_type": "stream",
     "text": [
      "Computing cluster p-values\n",
      "Step-down-in-jumps iteration #1 found 1 cluster to exclude from subsequent iterations\n",
      "Permuting 99 times...\n"
     ]
    },
    {
     "data": {
      "text/plain": "  0%|          |  : 0/99 [00:00<?,       ?it/s]",
      "application/vnd.jupyter.widget-view+json": {
       "version_major": 2,
       "version_minor": 0,
       "model_id": "3791448c7bab4276886fd91be7e56692"
      }
     },
     "metadata": {},
     "output_type": "display_data"
    },
    {
     "name": "stdout",
     "output_type": "stream",
     "text": [
      "Computing cluster p-values\n",
      "Step-down-in-jumps iteration #2 found 0 additional clusters to exclude from subsequent iterations\n",
      "Done.\n",
      "Using a threshold of -1.713872\n",
      "stat_fun(H1): min=-5.046259 max=5.406477\n",
      "Running initial clustering\n",
      "Found 66 clusters\n",
      "Permuting 99 times...\n"
     ]
    },
    {
     "data": {
      "text/plain": "  0%|          |  : 0/99 [00:00<?,       ?it/s]",
      "application/vnd.jupyter.widget-view+json": {
       "version_major": 2,
       "version_minor": 0,
       "model_id": "1a46a5b9a805488c8c676f69282865a7"
      }
     },
     "metadata": {},
     "output_type": "display_data"
    },
    {
     "name": "stdout",
     "output_type": "stream",
     "text": [
      "Computing cluster p-values\n",
      "Step-down-in-jumps iteration #1 found 0 clusters to exclude from subsequent iterations\n",
      "Done.\n",
      "No baseline correction applied\n",
      "Using a threshold of 1.713872\n",
      "stat_fun(H1): min=-5.964817 max=4.078953\n",
      "Running initial clustering\n",
      "Found 92 clusters\n",
      "Permuting 99 times...\n"
     ]
    },
    {
     "data": {
      "text/plain": "  0%|          |  : 0/99 [00:00<?,       ?it/s]",
      "application/vnd.jupyter.widget-view+json": {
       "version_major": 2,
       "version_minor": 0,
       "model_id": "d9ce1cb4d51f4d0cbe20689fbc51a504"
      }
     },
     "metadata": {},
     "output_type": "display_data"
    },
    {
     "name": "stdout",
     "output_type": "stream",
     "text": [
      "Computing cluster p-values\n",
      "Step-down-in-jumps iteration #1 found 1 cluster to exclude from subsequent iterations\n",
      "Permuting 99 times...\n"
     ]
    },
    {
     "data": {
      "text/plain": "  0%|          |  : 0/99 [00:00<?,       ?it/s]",
      "application/vnd.jupyter.widget-view+json": {
       "version_major": 2,
       "version_minor": 0,
       "model_id": "5b772a7cbeec47eda7f6dcac4d9e0291"
      }
     },
     "metadata": {},
     "output_type": "display_data"
    },
    {
     "name": "stdout",
     "output_type": "stream",
     "text": [
      "Computing cluster p-values\n",
      "Step-down-in-jumps iteration #2 found 0 additional clusters to exclude from subsequent iterations\n",
      "Done.\n",
      "Using a threshold of -1.713872\n",
      "stat_fun(H1): min=-5.964817 max=4.078953\n",
      "Running initial clustering\n",
      "Found 52 clusters\n",
      "Permuting 99 times...\n"
     ]
    },
    {
     "data": {
      "text/plain": "  0%|          |  : 0/99 [00:00<?,       ?it/s]",
      "application/vnd.jupyter.widget-view+json": {
       "version_major": 2,
       "version_minor": 0,
       "model_id": "2cfa5d37491c486894a9a733cf696b64"
      }
     },
     "metadata": {},
     "output_type": "display_data"
    },
    {
     "name": "stdout",
     "output_type": "stream",
     "text": [
      "Computing cluster p-values\n",
      "Step-down-in-jumps iteration #1 found 0 clusters to exclude from subsequent iterations\n",
      "Done.\n",
      "No baseline correction applied\n"
     ]
    },
    {
     "data": {
      "text/plain": "<Figure size 864x288 with 4 Axes>",
      "image/png": "[encoded data removed]"
     },
     "metadata": {
      "needs_background": "light"
     },
     "output_type": "display_data"
    }
   ],
   "source": [
    "tfr = tfr_multitaper(epochs, freqs=freqs, n_cycles=freqs, use_fft=True,\n",
    "                     return_itc=False, average=False, decim=2)\n",
    "tfr.crop(tmin, tmax).apply_baseline(baseline, mode=\"percent\")\n",
    "\n",
    "for event in event_ids:\n",
    "    # select desired epochs for visualization\n",
    "    tfr_ev = tfr[event]\n",
    "    fig, axes = plt.subplots(1, 4, figsize=(12, 4),\n",
    "                             gridspec_kw={\"width_ratios\": [10, 10, 10, 1]})\n",
    "    for ch, ax in enumerate(axes[:-1]):  # for each channel\n",
    "        # positive clusters\n",
    "        _, c1, p1, _ = pcluster_test(tfr_ev.data[:, ch], tail=1, **kwargs)\n",
    "        # negative clusters\n",
    "        _, c2, p2, _ = pcluster_test(tfr_ev.data[:, ch], tail=-1, **kwargs)\n",
    "\n",
    "        # note that we keep clusters with p <= 0.05 from the combined clusters\n",
    "        # of two independent tests; in this example, we do not correct for\n",
    "        # these two comparisons\n",
    "        c = np.stack(c1 + c2, axis=2)  # combined clusters\n",
    "        p = np.concatenate((p1, p2))  # combined p-values\n",
    "        mask = c[..., p <= 0.05].any(axis=-1)\n",
    "\n",
    "        # plot TFR (ERDS map with masking)\n",
    "        tfr_ev.average().plot([ch], cmap=\"RdBu\",  axes=ax,\n",
    "                              colorbar=False, show=False, mask=mask,\n",
    "                              mask_style=\"mask\")\n",
    "\n",
    "        ax.set_title(epochs.ch_names[ch], fontsize=10)\n",
    "        ax.axvline(0, linewidth=1, color=\"black\", linestyle=\":\")  # event\n",
    "        if ch != 0:\n",
    "            ax.set_ylabel(\"\")\n",
    "            ax.set_yticklabels(\"\")\n",
    "    fig.colorbar(axes[0].images[-1], cax=axes[-1]).ax.set_yscale(\"linear\")\n",
    "    fig.suptitle(f\"ERDS ({event})\")\n",
    "    plt.show()"
   ]
  },
  {
   "cell_type": "markdown",
   "metadata": {},
   "source": [
    "Similar to `~mne.Epochs` objects, we can also export data from\n",
    "`~mne.time_frequency.EpochsTFR` and `~mne.time_frequency.AverageTFR` objects\n",
    "to a :class:`Pandas DataFrame <pandas.DataFrame>`. By default, the `time`\n",
    "column of the exported data frame is in milliseconds. Here, to be consistent\n",
    "with the time-frequency plots, we want to keep it in seconds, which we can\n",
    "achieve by setting ``time_format=None``:\n",
    "\n"
   ]
  },
  {
   "cell_type": "code",
   "execution_count": null,
   "metadata": {
    "collapsed": false
   },
   "outputs": [],
   "source": [
    "df = tfr.to_data_frame(time_format=None)\n",
    "df.head()"
   ]
  },
  {
   "cell_type": "markdown",
   "metadata": {},
   "source": [
    "This allows us to use additional plotting functions like\n",
    ":func:`seaborn.lineplot` to plot confidence bands:\n",
    "\n"
   ]
  },
  {
   "cell_type": "code",
   "execution_count": null,
   "metadata": {
    "collapsed": false
   },
   "outputs": [],
   "source": [
    "df = tfr.to_data_frame(time_format=None, long_format=True)\n",
    "\n",
    "# Map to frequency bands:\n",
    "freq_bounds = {'_': 0,\n",
    "               'delta': 3,\n",
    "               'theta': 7,\n",
    "               'alpha': 13,\n",
    "               'beta': 35,\n",
    "               'gamma': 140}\n",
    "df['band'] = pd.cut(df['freq'], list(freq_bounds.values()),\n",
    "                    labels=list(freq_bounds)[1:])\n",
    "\n",
    "# Filter to retain only relevant frequency bands:\n",
    "freq_bands_of_interest = ['delta', 'theta', 'alpha', 'beta']\n",
    "df = df[df.band.isin(freq_bands_of_interest)]\n",
    "df['band'] = df['band'].cat.remove_unused_categories()\n",
    "\n",
    "# Order channels for plotting:\n",
    "df['channel'] = df['channel'].cat.reorder_categories(('C3', 'Cz', 'C4'),\n",
    "                                                     ordered=True)\n",
    "\n",
    "g = sns.FacetGrid(df, row='band', col='channel', margin_titles=True)\n",
    "g.map(sns.lineplot, 'time', 'value', 'condition', n_boot=10)\n",
    "axline_kw = dict(color='black', linestyle='dashed', linewidth=0.5, alpha=0.5)\n",
    "g.map(plt.axhline, y=0, **axline_kw)\n",
    "g.map(plt.axvline, x=0, **axline_kw)\n",
    "g.set(ylim=(None, 1.5))\n",
    "g.set_axis_labels(\"Time (s)\", \"ERDS (%)\")\n",
    "g.set_titles(col_template=\"{col_name}\", row_template=\"{row_name}\")\n",
    "g.add_legend(ncol=2, loc='lower center')\n",
    "g.fig.subplots_adjust(left=0.1, right=0.9, top=0.9, bottom=0.08)"
   ]
  },
  {
   "cell_type": "markdown",
   "metadata": {},
   "source": [
    "Having the data as a DataFrame also facilitates subsetting,\n",
    "grouping, and other transforms.\n",
    "Here, we use seaborn to plot the average ERDS in the motor imagery interval\n",
    "as a function of frequency band and imagery condition:\n",
    "\n"
   ]
  },
  {
   "cell_type": "code",
   "execution_count": null,
   "metadata": {
    "collapsed": false
   },
   "outputs": [],
   "source": [
    "df_mean = (df.query('time > 1')\n",
    "             .groupby(['condition', 'epoch', 'band', 'channel'])[['value']]\n",
    "             .mean()\n",
    "             .reset_index())\n",
    "\n",
    "g = sns.FacetGrid(df_mean, col='condition', col_order=['hands', 'feet'],\n",
    "                  margin_titles=True)\n",
    "g = (g.map(sns.violinplot, 'channel', 'value', 'band', n_boot=10,\n",
    "           palette='deep', order=['C3', 'Cz', 'C4'],\n",
    "           hue_order=freq_bands_of_interest,\n",
    "           linewidth=0.5).add_legend(ncol=4, loc='lower center'))\n",
    "\n",
    "g.map(plt.axhline, **axline_kw)\n",
    "g.set_axis_labels(\"\", \"ERDS (%)\")\n",
    "g.set_titles(col_template=\"{col_name}\", row_template=\"{row_name}\")\n",
    "g.fig.subplots_adjust(left=0.1, right=0.9, top=0.9, bottom=0.3)"
   ]
  },
  {
   "cell_type": "markdown",
   "metadata": {},
   "source": [
    "## References\n",
    ".. footbibliography::\n"
   ]
  },
  {
   "cell_type": "code",
   "execution_count": null,
   "outputs": [],
   "source": [],
   "metadata": {
    "collapsed": false,
    "pycharm": {
     "name": "#%%\n"
    }
   }
  }
 ],
 "metadata": {
  "kernelspec": {
   "display_name": "Python 3",
   "language": "python",
   "name": "python3"
  },
  "language_info": {
   "codemirror_mode": {
    "name": "ipython",
    "version": 3
   },
   "file_extension": ".py",
   "mimetype": "text/x-python",
   "name": "python",
   "nbconvert_exporter": "python",
   "pygments_lexer": "ipython3",
   "version": "3.8.10"
  }
 },
 "nbformat": 4,
 "nbformat_minor": 0
}