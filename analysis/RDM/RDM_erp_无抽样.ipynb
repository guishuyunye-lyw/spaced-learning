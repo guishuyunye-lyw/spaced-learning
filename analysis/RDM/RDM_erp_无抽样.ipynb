{
 "cells": [
  {
   "cell_type": "code",
   "execution_count": null,
   "outputs": [],
   "source": [
    "# -*- coding: utf-8 -*-\n",
    "\n",
    "'''\n",
    "\n",
    "这里用erp，因为单个trial的噪音很大，做不出结果。\n",
    "\n",
    "但是为了保证公平（有的条件比较少），进行抽样，所以数据读的依然是epoch的数据。\n",
    "\n",
    "\n",
    "\n",
    "'''\n",
    "\n",
    "__author__ = ' liangyaowen '"
   ],
   "metadata": {
    "collapsed": false,
    "pycharm": {
     "name": "#%%\n",
     "is_executing": true
    }
   }
  },
  {
   "cell_type": "code",
   "execution_count": 2,
   "outputs": [],
   "source": [
    "import numpy as np\n",
    "import os.path as op\n",
    "from pandas import read_csv\n",
    "import mne\n",
    "from mne.io import read_raw_fif\n",
    "from mne.datasets import visual_92_categories\n",
    "from neurora.nps_cal import nps\n",
    "from neurora.rdm_cal import eegRDM\n",
    "from neurora.rdm_corr import rdm_correlation_spearman\n",
    "from neurora.corr_cal_by_rdm import rdms_corr\n",
    "from neurora.rsa_plot import plot_rdm, plot_corrs_by_time, plot_nps_hotmap, plot_corrs_hotmap"
   ],
   "metadata": {
    "collapsed": false,
    "pycharm": {
     "name": "#%%\n"
    }
   }
  },
  {
   "cell_type": "code",
   "execution_count": 3,
   "outputs": [
    {
     "name": "stdout",
     "output_type": "stream",
     "text": [
      "Reading E:\\Python LYW\\RSA\\spaced_learning\\pre10\\analysis\\data\\6epoch_clean\\prex012-epo.fif ...\n",
      "    Found the data of interest:\n",
      "        t =    -200.00 ...     800.00 ms\n",
      "        0 CTF compensation matrices available\n",
      "Not setting metadata\n",
      "Not setting metadata\n",
      "32 matching events found\n",
      "No baseline correction applied\n",
      "0 projection items activated\n",
      "Reading E:\\Python LYW\\RSA\\spaced_learning\\pre10\\analysis\\data\\6epoch_clean\\prex012S-epo.fif ...\n",
      "    Found the data of interest:\n",
      "        t =    -200.00 ...     800.00 ms\n",
      "        0 CTF compensation matrices available\n",
      "Not setting metadata\n",
      "Not setting metadata\n",
      "49 matching events found\n",
      "No baseline correction applied\n",
      "0 projection items activated\n",
      "Reading E:\\Python LYW\\RSA\\spaced_learning\\pre10\\analysis\\data\\6epoch_clean\\prex012M-epo.fif ...\n",
      "    Found the data of interest:\n",
      "        t =    -200.00 ...     800.00 ms\n",
      "        0 CTF compensation matrices available\n",
      "Not setting metadata\n",
      "Not setting metadata\n",
      "44 matching events found\n",
      "No baseline correction applied\n",
      "0 projection items activated\n"
     ]
    }
   ],
   "source": [
    "\"\"\"\n",
    "数据应该是从epochs里读，每个epoch的标签不一样才对\n",
    "简化：\n",
    "先读一个被试的数据看看\n",
    "每个epoch对应一个condition（关键的是数量不对等问题-不同条件epoch数量不等，要不要随机抽取？假设每个抽取12个）\n",
    "\n",
    "\"\"\"\n",
    "T1_sub_ids = [\n",
    "            'prex012'  ]\n",
    "\n",
    "T2M_sub_ids = [\n",
    "            'prex012M' ]\n",
    "\n",
    "T2S_sub_ids = [\n",
    "            'prex012S' ]\n",
    "data_path = 'E:\\Python LYW\\RSA\\spaced_learning\\pre10\\\\analysis\\data\\\\6epoch_clean\\\\'\n",
    "\n",
    "list_epochs_T1S = list()\n",
    "list_epochs_T2S = list()\n",
    "list_epochs_T2M = list()\n",
    "\n",
    "for sub_id in T1_sub_ids:\n",
    "    fname = data_path + sub_id + '-epo.fif'\n",
    "    epochs = mne.read_epochs(fname)\n",
    "\n",
    "    list_epochs_T1S.append(epochs)\n",
    "\n",
    "for sub_id in T2S_sub_ids:\n",
    "    fname = data_path + sub_id + '-epo.fif'\n",
    "    epochs = mne.read_epochs(fname)\n",
    "    list_epochs_T2S.append(epochs)\n",
    "\n",
    "for sub_id in T2M_sub_ids:\n",
    "    fname = data_path + sub_id + '-epo.fif'\n",
    "    epochs = mne.read_epochs(fname)\n",
    "    list_epochs_T2M.append(epochs)"
   ],
   "metadata": {
    "collapsed": false,
    "pycharm": {
     "name": "#%%\n"
    }
   }
  },
  {
   "cell_type": "code",
   "execution_count": 4,
   "outputs": [],
   "source": [
    "#制作出完整的epochs\n",
    "\n",
    "# 先找出最少的那个，有时候不一定是 一次！\n",
    "minnum_epochs = min(len(list_epochs_T1S[0].events),\n",
    "                     len(list_epochs_T2M[0].events),\n",
    "                     len(list_epochs_T2S[0].events))\n",
    "\n",
    "import random\n",
    "epochs_type1 = list_epochs_T1S[0]\n",
    "#随机抽样epochs\n",
    "epochs_type2 = list_epochs_T2M[0]\n",
    "\n",
    "epochs_type3 = list_epochs_T2S[0]\n",
    "\n",
    "list_epochs_3types = [epochs_type1,epochs_type2,epochs_type3]\n",
    "\n",
    "\n"
   ],
   "metadata": {
    "collapsed": false,
    "pycharm": {
     "name": "#%%\n"
    }
   }
  },
  {
   "cell_type": "code",
   "execution_count": 5,
   "outputs": [],
   "source": [
    "# the shape of MEG data: megdata is [3, 92, 306, 1101]\n",
    "# n_subs = 3, n_conditions = 92, n_channels = 306, n_timepoints = 1101 (-100ms to 1000ms)\n",
    "subindex = 0\n",
    "#注意第一个维度是subs\n",
    "eegdata = np.zeros([len(T1_sub_ids),3, 63, 501], dtype=np.float32)\n",
    "#第一个维度是condition\n",
    "subdata = np.zeros([3, 63, 501], dtype=np.float32)\n",
    "for i in range(3):\n",
    "    data = list_epochs_3types[i].average().data\n",
    "    subdata[i] = data\n",
    "eegdata[subindex] = subdata"
   ],
   "metadata": {
    "collapsed": false,
    "pycharm": {
     "name": "#%%\n"
    }
   }
  },
  {
   "cell_type": "code",
   "execution_count": 6,
   "outputs": [],
   "source": [
    "explevels = 3\n",
    "num_subs = len(T1_sub_ids)\n",
    "# shape of megdata: [n_subs, n_cons, n_chls, n_ts] -> [n_cons, n_subs, n_chls, n_ts]\n",
    "eegdata = np.transpose(eegdata, (1, 0, 2, 3))\n",
    "\n",
    "# shape of megdata: [n_cons, n_subs, n_chls, n_ts] -> [n_cons, n_subs, n_trials, n_chls, n_ts]\n",
    "# here data is averaged, so set n_trials = 1\n",
    "eegdata = np.reshape(eegdata, [explevels, num_subs , 1, 63, 501])"
   ],
   "metadata": {
    "collapsed": false,
    "pycharm": {
     "name": "#%%\n"
    }
   }
  },
  {
   "cell_type": "code",
   "execution_count": 7,
   "outputs": [
    {
     "data": {
      "text/plain": "0"
     },
     "execution_count": 7,
     "metadata": {},
     "output_type": "execute_result"
    }
   ],
   "source": [
    "# Section 4: Calculating single RDM and Plotting\n",
    "# Calculate the RDM based on the data during 190ms-210ms\n",
    "rdm = eegRDM(eegdata[:, :, :, :, 290:310])\n",
    "\n",
    "\n",
    "' a function for plotting the RDM '\n",
    "\n",
    "import matplotlib.pyplot as plt\n",
    "\n",
    "def plot_rdm(rdm, percentile=False, rescale=False, lim=[0, 1], conditions=None, con_fontsize=12, cmap=None):\n",
    "\n",
    "    \"\"\"\n",
    "    Plot the RDM\n",
    "\n",
    "    Parameters\n",
    "    ----------\n",
    "    rdm : array or list [n_cons, n_cons]\n",
    "        A representational dissimilarity matrix.\n",
    "    percentile : bool True or False. Default is False.\n",
    "        Rescale the values in RDM or not by displaying the percentile.\n",
    "    rescale : bool True or False. Default is False.\n",
    "        Rescale the values in RDM or not.\n",
    "        Here, the maximum-minimum method is used to rescale the values except for the\n",
    "        values on the diagnal.\n",
    "    lim : array or list [min, max]. Default is [0, 1].\n",
    "        The corrs view lims.\n",
    "    conditions : string-array or string-list. Default is None.\n",
    "        The labels of the conditions for plotting.\n",
    "        conditions should contain n_cons strings, If conditions=None, the labels of conditions will be invisible.\n",
    "    con_fontsize : int or float. Default is 12.\n",
    "        The fontsize of the labels of the conditions for plotting.\n",
    "    cmap : matplotlib colormap. Default is None.\n",
    "        The colormap for RDM.\n",
    "        If cmap=None, the ccolormap will be 'jet'.\n",
    "    \"\"\"\n",
    "\n",
    "    if len(np.shape(rdm)) != 2 or np.shape(rdm)[0] != np.shape(rdm)[1]:\n",
    "\n",
    "        return \"Invalid input!\"\n",
    "\n",
    "    # get the number of conditions\n",
    "    cons = rdm.shape[0]\n",
    "\n",
    "    # if cons=2, the RDM cannot be plotted.\n",
    "    if cons == 2:\n",
    "        print(\"The shape of RDM cannot be 2*2. Here NeuroRA cannot plot this RDM.\")\n",
    "\n",
    "        return None\n",
    "\n",
    "    # determine if it's a square\n",
    "    a, b = np.shape(rdm)\n",
    "    if a != b:\n",
    "        return None\n",
    "\n",
    "    if percentile == True:\n",
    "\n",
    "        v = np.zeros([cons * cons, 2], dtype=np.float)\n",
    "        for i in range(cons):\n",
    "            for j in range(cons):\n",
    "                v[i * cons + j, 0] = rdm[i, j]\n",
    "\n",
    "        index = np.argsort(v[:, 0])\n",
    "        m = 0\n",
    "        for i in range(cons * cons):\n",
    "            if i > 0:\n",
    "                if v[index[i], 0] > v[index[i - 1], 0]:\n",
    "                    m = m + 1\n",
    "                v[index[i], 1] = m\n",
    "\n",
    "        v[:, 0] = v[:, 1] * 100 / m\n",
    "\n",
    "        for i in range(cons):\n",
    "            for j in range(cons):\n",
    "                rdm[i, j] = v[i * cons + j, 0]\n",
    "\n",
    "        if cmap == None:\n",
    "            plt.imshow(rdm, extent=(0, 1, 0, 1), cmap=plt.cm.jet, clim=(0, 100))\n",
    "        else:\n",
    "            plt.imshow(rdm, extent=(0, 1, 0, 1), cmap=cmap, clim=(0, 100))\n",
    "\n",
    "    # rescale the RDM\n",
    "    elif rescale == True:\n",
    "\n",
    "        # flatten the RDM\n",
    "        vrdm = np.reshape(rdm, [cons * cons])\n",
    "        # array -> set -> list\n",
    "        svrdm = set(vrdm)\n",
    "        lvrdm = list(svrdm)\n",
    "        lvrdm.sort()\n",
    "\n",
    "        # get max & min\n",
    "        maxvalue = lvrdm[-1]\n",
    "        minvalue = lvrdm[1]\n",
    "\n",
    "        # rescale\n",
    "        if maxvalue != minvalue:\n",
    "\n",
    "            for i in range(cons):\n",
    "                for j in range(cons):\n",
    "\n",
    "                    # not on the diagnal\n",
    "                    if i != j:\n",
    "                        rdm[i, j] = float((rdm[i, j] - minvalue) / (maxvalue - minvalue))\n",
    "\n",
    "        # plot the RDM\n",
    "        min = lim[0]\n",
    "        max = lim[1]\n",
    "        if cmap == None:\n",
    "            plt.imshow(rdm, extent=(0, 1, 0, 1), cmap=plt.cm.jet, clim=(min, max))\n",
    "        else:\n",
    "            plt.imshow(rdm, extent=(0, 1, 0, 1), cmap=cmap, clim=(min, max))\n",
    "\n",
    "    else:\n",
    "\n",
    "        # plot the RDM\n",
    "        min = lim[0]\n",
    "        max = lim[1]\n",
    "        if cmap == None:\n",
    "            plt.imshow(rdm, extent=(0, 1, 0, 1), cmap=plt.cm.jet, clim=(min, max))\n",
    "        else:\n",
    "            plt.imshow(rdm, extent=(0, 1, 0, 1), cmap=cmap, clim=(min, max))\n",
    "\n",
    "    # plt.axis(\"off\")\n",
    "    cb = plt.colorbar()\n",
    "    cb.ax.tick_params(labelsize=16)\n",
    "    font = {'size': 18}\n",
    "\n",
    "    if percentile == True:\n",
    "        cb.set_label(\"Dissimilarity (percentile)\", fontdict=font)\n",
    "    elif rescale == True:\n",
    "        cb.set_label(\"Dissimilarity (Rescaling)\", fontdict=font)\n",
    "    else:\n",
    "        cb.set_label(\"Dissimilarity\", fontdict=font)\n",
    "\n",
    "    if conditions != None:\n",
    "        print(\"1\")\n",
    "        step = float(1 / cons)\n",
    "        x = np.arange(0.5 * step, 1 + 0.5 * step, step)\n",
    "        y = np.arange(1 - 0.5 * step, -0.5 * step, -step)\n",
    "        plt.xticks(x, conditions, fontsize=con_fontsize, rotation=30, ha=\"right\")\n",
    "        plt.yticks(y, conditions, fontsize=con_fontsize)\n",
    "    else:\n",
    "        plt.axis(\"off\")\n",
    "\n",
    "    plt.show()\n",
    "\n",
    "    return 0\n",
    "\n",
    "# Plot this RDM\n",
    "%matplotlib qt\n",
    "plot_rdm(rdm, percentile=True)"
   ],
   "metadata": {
    "collapsed": false,
    "pycharm": {
     "name": "#%%\n"
    }
   }
  },
  {
   "cell_type": "code",
   "execution_count": 13,
   "outputs": [
    {
     "data": {
      "text/plain": "<Figure size 432x288 with 1 Axes>",
      "image/png": "[encoded data removed]"
     },
     "metadata": {
      "needs_background": "light"
     },
     "output_type": "display_data"
    }
   ],
   "source": [
    "#Section 5: Calculating RDMs and Plotting\n",
    "# Calculate the RDMs by a 10ms time-window\n",
    "# (raw sampling requency is 1000Hz, so here time_win=10ms/(1s/1000Hz)/1000=10)\n",
    "rdms = eegRDM(eegdata, time_opt=1, time_win=50, time_step=10)\n",
    "\n",
    "# Plot the RDM of -100ms, 0ms, 50ms, 100ms, 150ms, 200ms\n",
    "times = [0, 10, 20, 30]\n",
    "%matplotlib inline\n",
    "#\n",
    "# for t in times:\n",
    "#     plot_rdm(rdms[t], percentile=True)\n",
    "\n",
    "# 考虑直接 画出 三条线；一次 vs 集中、集中  vs 分散、 一次 vs 分散\n",
    "# 这应该算是对向量作图？ 先提取出来。\n",
    "#\n",
    "y1 = rdms[15:,0,1]#一次 VS 集中\n",
    "y2 = rdms[15:,1,2]#集中 vs 分散\n",
    "y3 = rdms[15:,0,2]#一次 vs 分散\n",
    "y1[0] = 0\n",
    "#为什么呢？？\n",
    "y1[10]= (y1[9]+y1[11])/2\n",
    "y1[20]=(y1[19]+y1[21])/2\n",
    "y1[30]=y1[29]\n",
    "\n",
    "y2[0] = 0\n",
    "y2[10]= (y2[9]+y2[11])/2\n",
    "y2[20]=(y2[19]+y2[21])/2\n",
    "y2[30]=y2[29]\n",
    "\n",
    "y3[0] = 0\n",
    "y3[10]= (y3[9]+y3[11])/2\n",
    "y3[20]=(y3[19]+y3[21])/2\n",
    "y3[30]=y3[29]\n",
    "x = np.arange(0.1,0.72,0.02)\n",
    "l1=plt.plot(x,y1,'r--',label='type1')\n",
    "l2=plt.plot(x,y2,'g--',label='type2')\n",
    "l3=plt.plot(x,y3,'b--',label='type3')\n",
    "\n",
    "plt.show()\n"
   ],
   "metadata": {
    "collapsed": false,
    "pycharm": {
     "name": "#%%\n"
    }
   }
  },
  {
   "cell_type": "code",
   "execution_count": null,
   "outputs": [],
   "source": [
    "#Section 5: Calculating RDMs and Plotting\n",
    "# Calculate the RDMs by a 10ms time-window\n",
    "# (raw sampling requency is 1000Hz, so here time_win=10ms/(1s/1000Hz)/1000=10)\n",
    "rdms = eegRDM(eegdata, time_opt=1, time_win=200, time_step=10)\n",
    "\n",
    "# Plot the RDM of -100ms, 0ms, 50ms, 100ms, 150ms, 200ms\n",
    "times = [0, 10, 20, 30]\n",
    "%matplotlib inline\n",
    "#\n",
    "# for t in times:\n",
    "#     plot_rdm(rdms[t], percentile=True)\n",
    "\n",
    "# 考虑直接 画出 三条线；一次 vs 集中、集中  vs 分散、 一次 vs 分散\n",
    "# 这应该算是对向量作图？ 先提取出来。\n",
    "#\n",
    "y1 = rdms[10:,0,1]#一次 VS 集中\n",
    "y2 = rdms[10:,1,2]#集中 vs 分散\n",
    "y3 = rdms[10:,0,2]#一次 vs 分散\n",
    "y1[0] = 0\n",
    "y1[10]= (y1[9]+y1[11])/2\n",
    "y1[20]=y1[19]\n",
    "\n",
    "y2[0] = 0\n",
    "y2[10]= (y2[9]+y2[11])/2\n",
    "y2[20]=y2[19]\n",
    "\n",
    "y3[0] = 0\n",
    "y3[10]= (y3[9]+y3[11])/2\n",
    "y3[20]=y3[19]\n",
    "x = np.arange(0,0.42,0.02)\n",
    "l1=plt.plot(x,y1,'r--',label='type1')\n",
    "l2=plt.plot(x,y2,'g--',label='type2')\n",
    "l3=plt.plot(x,y3,'b--',label='type3')\n",
    "\n",
    "plt.show()\n",
    "\n"
   ],
   "metadata": {
    "collapsed": false,
    "pycharm": {
     "name": "#%%\n"
    }
   }
  },
  {
   "cell_type": "code",
   "execution_count": null,
   "outputs": [],
   "source": [
    "\n",
    "rdms = eegRDM(eegdata, time_opt=1, time_win=100, time_step=10)\n",
    "\n",
    "# Plot the RDM of -100ms, 0ms, 50ms, 100ms, 150ms, 200ms\n",
    "times = [0, 10, 20, 30]\n",
    "%matplotlib inline\n",
    "#\n",
    "# for t in times:\n",
    "#     plot_rdm(rdms[t], percentile=True)\n",
    "\n",
    "# 考虑直接 画出 三条线；一次 vs 集中、集中  vs 分散、 一次 vs 分散\n",
    "# 这应该算是对向量作图？ 先提取出来。\n",
    "#\n",
    "y1 = rdms[10:,0,1]#一次 VS 集中\n",
    "y2 = rdms[10:,1,2]#集中 vs 分散\n",
    "y3 = rdms[10:,0,2]#\n",
    "\n",
    "x = np.arange(0,0.62,0.02)\n",
    "l1=plt.plot(x,y1,'r--',label='type1')\n",
    "l2=plt.plot(x,y2,'g--',label='type2')\n",
    "l3=plt.plot(x,y3,'b--',label='type3')\n",
    "\n",
    "plt.show()"
   ],
   "metadata": {
    "collapsed": false,
    "pycharm": {
     "name": "#%%\n"
    }
   }
  },
  {
   "cell_type": "code",
   "execution_count": null,
   "outputs": [],
   "source": [
    "\n"
   ],
   "metadata": {
    "collapsed": false,
    "pycharm": {
     "name": "#%%\n"
    }
   }
  }
 ],
 "metadata": {
  "kernelspec": {
   "name": "mne",
   "language": "python",
   "display_name": "'Python(mne)'"
  },
  "language_info": {
   "codemirror_mode": {
    "name": "ipython",
    "version": 2
   },
   "file_extension": ".py",
   "mimetype": "text/x-python",
   "name": "python",
   "nbconvert_exporter": "python",
   "pygments_lexer": "ipython2",
   "version": "2.7.6"
  }
 },
 "nbformat": 4,
 "nbformat_minor": 0
}