{
 "cells": [
  {
   "cell_type": "code",
   "execution_count": 1,
   "outputs": [
    {
     "data": {
      "text/plain": "'\\n都是单被试处理，所以不需要专门读list\\n\\n这里主要是重新命名和改变数据类型为MNE的raw类型。\\n\\n'"
     },
     "execution_count": 1,
     "metadata": {},
     "output_type": "execute_result"
    }
   ],
   "source": [
    "'''\n",
    "都是单被试处理，所以不需要专门读list\n",
    "\n",
    "这里主要是重新命名和改变数据类型为MNE的raw类型。\n",
    "\n",
    "'''\n"
   ],
   "metadata": {
    "collapsed": false,
    "pycharm": {
     "name": "#%%\n"
    }
   }
  },
  {
   "cell_type": "code",
   "execution_count": 1,
   "metadata": {
    "collapsed": true,
    "pycharm": {
     "name": "#%%\n"
    }
   },
   "outputs": [],
   "source": [
    "import os.path as op\n",
    "import mne\n",
    "from mne.preprocessing import ICA\n",
    "import matplotlib.pyplot as plt\n",
    "from copy import deepcopy"
   ]
  },
  {
   "cell_type": "code",
   "execution_count": 4,
   "outputs": [
    {
     "name": "stdout",
     "output_type": "stream",
     "text": [
      "Extracting parameters from I:\\LYWPRE10\\prex051lvjiayi.vhdr...\n",
      "Setting channel info structure...\n"
     ]
    },
    {
     "name": "stderr",
     "output_type": "stream",
     "text": [
      "<ipython-input-4-65414e0f7ce0>:7: RuntimeWarning: Online software filter detected. Using software filter settings and ignoring hardware values\n",
      "  raw = mne.io.read_raw_brainvision(fname_original, preload=True, verbose=None)\n"
     ]
    },
    {
     "name": "stdout",
     "output_type": "stream",
     "text": [
      "Reading 0 ... 1098409  =      0.000 ...  2196.818 secs...\n",
      "Writing E:\\Python LYW\\RSA\\spaced_learning\\pre10\\preprocessing\\data\\1raw_rename\\prex051.fif\n"
     ]
    },
    {
     "name": "stderr",
     "output_type": "stream",
     "text": [
      "<ipython-input-4-65414e0f7ce0>:8: RuntimeWarning: This filename (E:\\Python LYW\\RSA\\spaced_learning\\pre10\\preprocessing\\data\\1raw_rename\\prex051.fif) does not conform to MNE naming conventions. All raw files should end with raw.fif, raw_sss.fif, raw_tsss.fif, _meg.fif, _eeg.fif, _ieeg.fif, raw.fif.gz, raw_sss.fif.gz, raw_tsss.fif.gz, _meg.fif.gz, _eeg.fif.gz or _ieeg.fif.gz\n",
      "  raw.save(fname_new, overwrite='True')\n"
     ]
    },
    {
     "name": "stdout",
     "output_type": "stream",
     "text": [
      "Closing E:\\Python LYW\\RSA\\spaced_learning\\pre10\\preprocessing\\data\\1raw_rename\\prex051.fif\n",
      "[done]\n"
     ]
    }
   ],
   "source": [
    "data_path = 'I:\\\\LYWPRE10\\\\'\n",
    "save_path = '.\\\\data\\\\1raw_rename\\\\'\n",
    "sub_name = 'prex051lvjiayi'\n",
    "sub_id = 'prex051'\n",
    "fname_original  = data_path + sub_name +'.vhdr'\n",
    "fname_new = save_path + sub_id + '.fif'\n",
    "raw = mne.io.read_raw_brainvision(fname_original, preload=True, verbose=None)\n",
    "raw.save(fname_new, overwrite='True')"
   ],
   "metadata": {
    "collapsed": false,
    "pycharm": {
     "name": "#%%\n"
    }
   }
  },
  {
   "cell_type": "code",
   "execution_count": 4,
   "outputs": [
    {
     "name": "stdout",
     "output_type": "stream",
     "text": [
      "Extracting parameters from I:\\LYWPRE10\\prex021chenxiufang.vhdr...\n",
      "Setting channel info structure...\n",
      "Reading 0 ... 326649  =      0.000 ...   653.298 secs...\n",
      "Extracting parameters from I:\\LYWPRE10\\prex021chenxiufang2bu(duandian).vhdr...\n",
      "Setting channel info structure...\n",
      "Reading 0 ... 884639  =      0.000 ...  1769.278 secs...\n",
      "Overwriting existing file.\n",
      "Writing E:\\Python LYW\\RSA\\spaced_learning\\pre10\\preprocessing\\data\\1raw_rename\\prex021.fif\n",
      "Closing E:\\Python LYW\\RSA\\spaced_learning\\pre10\\preprocessing\\data\\1raw_rename\\prex021.fif\n",
      "[done]\n"
     ]
    },
    {
     "name": "stderr",
     "output_type": "stream",
     "text": [
      "<ipython-input-4-a3e9e5e2a41e>:16: RuntimeWarning: Online software filter detected. Using software filter settings and ignoring hardware values\n",
      "  raw2 = mne.io.read_raw_brainvision(fname_original, preload=True, verbose=None)\n",
      "<ipython-input-4-a3e9e5e2a41e>:19: RuntimeWarning: This filename (E:\\Python LYW\\RSA\\spaced_learning\\pre10\\preprocessing\\data\\1raw_rename\\prex021.fif) does not conform to MNE naming conventions. All raw files should end with raw.fif, raw_sss.fif, raw_tsss.fif, raw.fif.gz, raw_sss.fif.gz, raw_tsss.fif.gz or _meg.fif\n",
      "  raw.save(fname_new, overwrite='True')\n"
     ]
    }
   ],
   "source": [
    "# 合并两个raw，因为之前出了些问题。分成了两段数据来记录\n",
    "data_path = 'I:\\\\LYWPRE10\\\\'\n",
    "save_path = '.\\\\data\\\\1raw_rename\\\\'\n",
    "sub_name = 'prex021chenxiufang'\n",
    "sub_id = 'prex021'\n",
    "fname_original  = data_path + sub_name +'.vhdr'\n",
    "fname_new = save_path + sub_id + '.fif'\n",
    "raw = mne.io.read_raw_brainvision(fname_original, preload=True, verbose=None)\n",
    "data_path = 'I:\\\\LYWPRE10\\\\'\n",
    "save_path = '.\\\\data\\\\1raw_rename\\\\'\n",
    "sub_name = 'prex021chenxiufang2bu(duandian)'\n",
    "\n",
    "fname_original  = data_path + sub_name +'.vhdr'\n",
    "\n",
    "raw2 = mne.io.read_raw_brainvision(fname_original, preload=True, verbose=None)\n",
    "\n",
    "raw = mne.concatenate_raws([raw,raw2])\n",
    "raw.save(fname_new, overwrite='True')"
   ],
   "metadata": {
    "collapsed": false,
    "pycharm": {
     "name": "#%%\n"
    }
   }
  },
  {
   "cell_type": "code",
   "execution_count": 5,
   "outputs": [],
   "source": [
    "# 有两个数据出错了，所以\n",
    "# data_path = 'E:\\实验\\PRE8\\LYWPRE8\\\\'\n",
    "# save_path = '.\\data\\\\1raw_rename\\\\'\n",
    "# sub_name = 'PRE8M003_yixiuzhengmark'\n",
    "# sub_id = 'pre8M003'\n",
    "# fname_original  = data_path + sub_name +'.set'\n",
    "# fname_new = save_path + sub_id + '.fif'\n",
    "#\n",
    "# raw = mne.io.read_raw_eeglab(fname_original)\n",
    "#\n",
    "# raw.save(fname_new, overwrite='True')"
   ],
   "metadata": {
    "collapsed": false,
    "pycharm": {
     "name": "#%%\n"
    }
   }
  },
  {
   "cell_type": "code",
   "source": [
    "# target_events = {'S151':151, 'S152':152, 'S153':153, 'S154':154, 'S155':155, 'S156':156,\n",
    "#                      'S157':157, 'S158':158, 'S159':159, 'S160':160, 'S161':161, 'S162':162,\n",
    "#                      'S163':163, 'S164':164, 'S165':165, 'S166':166, 'S167':167, 'S168':168,\n",
    "#                      'S169':169, 'S170':170, 'S171':171, 'S172':172, 'S173':173, 'S174':174,\n",
    "#                      'S175':175, 'S176':176, 'S177':177, 'S178':178, 'S179':179, 'S180':180,\n",
    "#                      'S181':181, 'S182':182, 'S183':183, 'S184':184, 'S185':185, 'S186':186,\n",
    "#                      'S187':187, 'S188':188, 'S189':189, 'S190':190,\n",
    "#\n",
    "#                      'S101':101, 'S102':102, 'S103':103, 'S104':104, 'S105':105, 'S106':106,\n",
    "#                      'S107':107, 'S108':108, 'S109':109, 'S110':110, 'S111':111, 'S112':112,\n",
    "#                      'S113':113, 'S114':114, 'S115':115, 'S116':116, 'S117':117, 'S118':118,\n",
    "#                      'S119':119, 'S120':120, 'S121':121, 'S122':122, 'S123':123, 'S124':124,\n",
    "#                      'S125':125, 'S126':126, 'S127':127, 'S128':128, 'S129':129, 'S130':130,\n",
    "#                      'S131':131, 'S132':132, 'S133':133, 'S134':134, 'S135':135, 'S136':136,\n",
    "#                      'S137':137, 'S138':138, 'S139':139, 'S140':140,\n",
    "#\n",
    "#                      'S201':201, 'S202':202, 'S203':203, 'S204':204, 'S205':205, 'S206':206,\n",
    "#                      'S207':207, 'S208':208, 'S209':209, 'S210':210, 'S211':211, 'S212':212,\n",
    "#                      'S213':213, 'S214':214, 'S215':215, 'S216':216, 'S217':217, 'S218':218,\n",
    "#                      'S219':219, 'S220':220, 'S221':221, 'S222':222, 'S223':223, 'S224':224,\n",
    "#                      'S225':225, 'S226':226, 'S227':227, 'S228':228, 'S229':229, 'S230':230,\n",
    "#                      'S231':231, 'S232':232, 'S233':233, 'S234':234, 'S235':235, 'S236':236,\n",
    "#                      'S237':237, 'S238':238, 'S239':239, 'S240':240,\n",
    "#\n",
    "#                      'S 20':20,'S 21':21,'S 22':22,'S 23':23,'S 24':24,'S 25':25,\n",
    "#                      'S 26':26,'S 27':27,'S 28':28,'S 29':29,'S 30':30,'S 52':52,}\n",
    "# #\n",
    "# target_events = {'S151':151}\n",
    "# S1_events = list(range(201,233))\n",
    "# logicscore_events = list(range(20,30))\n",
    "#\n",
    "# #先找events，epoch和average都是一步的事情。\n",
    "# custom_mapping = target_events\n",
    "# (events_from_annot,\n",
    "#  event_dict) = mne.events_from_annotations(raw, event_id=custom_mapping)"
   ],
   "metadata": {
    "collapsed": false,
    "pycharm": {
     "name": "#%%\n"
    }
   },
   "execution_count": 6,
   "outputs": []
  },
  {
   "cell_type": "code",
   "execution_count": 6,
   "outputs": [],
   "source": [
    "\n"
   ],
   "metadata": {
    "collapsed": false,
    "pycharm": {
     "name": "#%%\n"
    }
   }
  }
 ],
 "metadata": {
  "kernelspec": {
   "name": "mne",
   "language": "python",
   "display_name": "'Python(mne)'"
  },
  "language_info": {
   "codemirror_mode": {
    "name": "ipython",
    "version": 2
   },
   "file_extension": ".py",
   "mimetype": "text/x-python",
   "name": "python",
   "nbconvert_exporter": "python",
   "pygments_lexer": "ipython2",
   "version": "2.7.6"
  }
 },
 "nbformat": 4,
 "nbformat_minor": 0
}